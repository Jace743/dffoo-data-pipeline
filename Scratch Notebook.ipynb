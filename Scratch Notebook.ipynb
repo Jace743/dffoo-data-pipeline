{
 "cells": [
  {
   "cell_type": "code",
   "execution_count": 2,
   "id": "2c332bac-a681-46a4-9eb0-388c9e059f53",
   "metadata": {},
   "outputs": [],
   "source": [
    "from web_scraper.web_scraper import CompendiumScraper\n",
    "import pandas as pd"
   ]
  },
  {
   "cell_type": "markdown",
   "id": "c8160d4b-195f-4c84-a6a9-2337da3abaae",
   "metadata": {},
   "source": [
    "# Running To-Do List for Scraper\n",
    "- Account for Jack Garland's last followup HP being uncapped\n",
    "- Account for Sherlotta's first LD HP attack being uncapped\n",
    "- Account for Sherlotta's first Chuck Staff HP attack being uncapped. The splash to other targets deals exactly half of the first HP attack (maybe it could be boosted to full? unsure).\n",
    "- Add something character-level that indicates whether they have a BT or not (this will be needed for when we indicate whether a character's BT is active)\n",
    "- Add something that will pull character images from their profile and save them in a folder for later use (By.XPATH, \"//img[@class='charmanimage']\").get_attribute(\"src\")"
   ]
  },
  {
   "cell_type": "code",
   "execution_count": 3,
   "id": "9bf56ce9-001d-45d2-b357-ab97b837bcb5",
   "metadata": {},
   "outputs": [
    {
     "name": "stderr",
     "output_type": "stream",
     "text": [
      "Error getting version of chromedriver 115. Retrying with chromedriver 114 (attempt 1/5)\n"
     ]
    }
   ],
   "source": [
    "cs = CompendiumScraper()"
   ]
  },
  {
   "cell_type": "code",
   "execution_count": 6,
   "id": "720666a0-fa55-45d7-bfd2-f858050d3197",
   "metadata": {},
   "outputs": [],
   "source": [
    "jg_df = cs.extract_ability_hp_attack_count('jackgarland')"
   ]
  },
  {
   "cell_type": "code",
   "execution_count": 7,
   "id": "ed306e56-9ac7-447a-a481-390186ec4a48",
   "metadata": {},
   "outputs": [
    {
     "data": {
      "text/html": [
       "<div>\n",
       "<style scoped>\n",
       "    .dataframe tbody tr th:only-of-type {\n",
       "        vertical-align: middle;\n",
       "    }\n",
       "\n",
       "    .dataframe tbody tr th {\n",
       "        vertical-align: top;\n",
       "    }\n",
       "\n",
       "    .dataframe thead th {\n",
       "        text-align: right;\n",
       "    }\n",
       "</style>\n",
       "<table border=\"1\" class=\"dataframe\">\n",
       "  <thead>\n",
       "    <tr style=\"text-align: right;\">\n",
       "      <th></th>\n",
       "      <th>char_name</th>\n",
       "      <th>ability_name</th>\n",
       "      <th>main_target_hp_attacks</th>\n",
       "      <th>non_target_hp_attacks</th>\n",
       "      <th>hp_dmg_cap_up_perc</th>\n",
       "    </tr>\n",
       "  </thead>\n",
       "  <tbody>\n",
       "    <tr>\n",
       "      <th>0</th>\n",
       "      <td>jackgarland</td>\n",
       "      <td>HP Attack+</td>\n",
       "      <td>1</td>\n",
       "      <td>0</td>\n",
       "      <td>0</td>\n",
       "    </tr>\n",
       "    <tr>\n",
       "      <th>1</th>\n",
       "      <td>jackgarland</td>\n",
       "      <td>HP Attack++</td>\n",
       "      <td>1</td>\n",
       "      <td>0</td>\n",
       "      <td>0</td>\n",
       "    </tr>\n",
       "    <tr>\n",
       "      <th>2</th>\n",
       "      <td>jackgarland</td>\n",
       "      <td>Spinning Slash</td>\n",
       "      <td>3</td>\n",
       "      <td>3</td>\n",
       "      <td>20</td>\n",
       "    </tr>\n",
       "    <tr>\n",
       "      <th>3</th>\n",
       "      <td>jackgarland</td>\n",
       "      <td>Soul Burst</td>\n",
       "      <td>2</td>\n",
       "      <td>0</td>\n",
       "      <td>0</td>\n",
       "    </tr>\n",
       "    <tr>\n",
       "      <th>4</th>\n",
       "      <td>jackgarland</td>\n",
       "      <td>Highbringer</td>\n",
       "      <td>3</td>\n",
       "      <td>1</td>\n",
       "      <td>20</td>\n",
       "    </tr>\n",
       "    <tr>\n",
       "      <th>5</th>\n",
       "      <td>jackgarland</td>\n",
       "      <td>Lightbringer</td>\n",
       "      <td>5</td>\n",
       "      <td>5</td>\n",
       "      <td>10</td>\n",
       "    </tr>\n",
       "    <tr>\n",
       "      <th>6</th>\n",
       "      <td>jackgarland</td>\n",
       "      <td>Zantetsuken</td>\n",
       "      <td>3</td>\n",
       "      <td>3</td>\n",
       "      <td>15</td>\n",
       "    </tr>\n",
       "    <tr>\n",
       "      <th>7</th>\n",
       "      <td>jackgarland</td>\n",
       "      <td>Soul Burst+</td>\n",
       "      <td>3</td>\n",
       "      <td>0</td>\n",
       "      <td>0</td>\n",
       "    </tr>\n",
       "    <tr>\n",
       "      <th>8</th>\n",
       "      <td>jackgarland</td>\n",
       "      <td>Soul of Chaos</td>\n",
       "      <td>2</td>\n",
       "      <td>2</td>\n",
       "      <td>400</td>\n",
       "    </tr>\n",
       "    <tr>\n",
       "      <th>9</th>\n",
       "      <td>jackgarland</td>\n",
       "      <td>Thirst for Chaos</td>\n",
       "      <td>3</td>\n",
       "      <td>3</td>\n",
       "      <td>250</td>\n",
       "    </tr>\n",
       "  </tbody>\n",
       "</table>\n",
       "</div>"
      ],
      "text/plain": [
       "     char_name      ability_name  main_target_hp_attacks  \\\n",
       "0  jackgarland        HP Attack+                       1   \n",
       "1  jackgarland       HP Attack++                       1   \n",
       "2  jackgarland    Spinning Slash                       3   \n",
       "3  jackgarland        Soul Burst                       2   \n",
       "4  jackgarland       Highbringer                       3   \n",
       "5  jackgarland      Lightbringer                       5   \n",
       "6  jackgarland       Zantetsuken                       3   \n",
       "7  jackgarland       Soul Burst+                       3   \n",
       "8  jackgarland     Soul of Chaos                       2   \n",
       "9  jackgarland  Thirst for Chaos                       3   \n",
       "\n",
       "   non_target_hp_attacks  hp_dmg_cap_up_perc  \n",
       "0                      0                   0  \n",
       "1                      0                   0  \n",
       "2                      3                  20  \n",
       "3                      0                   0  \n",
       "4                      1                  20  \n",
       "5                      5                  10  \n",
       "6                      3                  15  \n",
       "7                      0                   0  \n",
       "8                      2                 400  \n",
       "9                      3                 250  "
      ]
     },
     "execution_count": 7,
     "metadata": {},
     "output_type": "execute_result"
    }
   ],
   "source": [
    "jg_df"
   ]
  },
  {
   "cell_type": "code",
   "execution_count": 9,
   "id": "2f834067-59d3-42df-9ec1-d915504a2d63",
   "metadata": {},
   "outputs": [],
   "source": [
    "test_dict = {\n",
    "    'test_one': 1,\n",
    "    'test_two':2,\n",
    "    'test_three':3\n",
    "}"
   ]
  }
 ],
 "metadata": {
  "kernelspec": {
   "display_name": "Python 3 (ipykernel)",
   "language": "python",
   "name": "python3"
  },
  "language_info": {
   "codemirror_mode": {
    "name": "ipython",
    "version": 3
   },
   "file_extension": ".py",
   "mimetype": "text/x-python",
   "name": "python",
   "nbconvert_exporter": "python",
   "pygments_lexer": "ipython3",
   "version": "3.11.4"
  }
 },
 "nbformat": 4,
 "nbformat_minor": 5
}
