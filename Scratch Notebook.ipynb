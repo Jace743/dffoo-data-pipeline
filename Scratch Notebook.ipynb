{
 "cells": [
  {
   "cell_type": "code",
   "execution_count": 1,
   "id": "2c332bac-a681-46a4-9eb0-388c9e059f53",
   "metadata": {},
   "outputs": [],
   "source": [
    "from web_scraper.web_scraper import CompendiumScraper\n",
    "import pandas as pd"
   ]
  },
  {
   "cell_type": "markdown",
   "id": "c8160d4b-195f-4c84-a6a9-2337da3abaae",
   "metadata": {},
   "source": [
    "# Running To-Do List for Scraper\n",
    "- Implement logging\n",
    "- Integrate `screen_for_rework` results into the pipeline (maybe adjust the other main functions so that they have a kwarg to click the GL/JP icon?)\n",
    "- Add something that will pull character images from their profile and save them in a folder for later use (By.XPATH, \"//img[@class='charmanimage']\").get_attribute(\"src\")"
   ]
  },
  {
   "cell_type": "code",
   "execution_count": 2,
   "id": "9bf56ce9-001d-45d2-b357-ab97b837bcb5",
   "metadata": {},
   "outputs": [],
   "source": [
    "cs = CompendiumScraper()"
   ]
  },
  {
   "cell_type": "code",
   "execution_count": 11,
   "id": "2f834067-59d3-42df-9ec1-d915504a2d63",
   "metadata": {},
   "outputs": [
    {
     "name": "stdout",
     "output_type": "stream",
     "text": [
      "Unable to access abilities for Amarant.\n",
      "They might not be released to GL yet.\n"
     ]
    }
   ],
   "source": [
    "cs.generate_ability_dict('amarant')"
   ]
  },
  {
   "cell_type": "code",
   "execution_count": 12,
   "id": "94529bb1-ab20-4618-8a1a-5cd9d1b66620",
   "metadata": {},
   "outputs": [
    {
     "data": {
      "text/plain": [
       "{'reks': {'BRV Attack+': {'ability_attack_info': <selenium.webdriver.remote.webelement.WebElement (session=\"cf06110a7efa051ce6a9b7c3aaa280f1\", element=\"06411B3CF3F4BDC0A3C44316B30C86E4_element_366\")>,\n",
       "   'attribute_list': ['Melee']},\n",
       "  'BRV Attack++': {'ability_attack_info': <selenium.webdriver.remote.webelement.WebElement (session=\"cf06110a7efa051ce6a9b7c3aaa280f1\", element=\"06411B3CF3F4BDC0A3C44316B30C86E4_element_367\")>,\n",
       "   'attribute_list': ['Melee']},\n",
       "  'HP Attack+': {'ability_attack_info': <selenium.webdriver.remote.webelement.WebElement (session=\"cf06110a7efa051ce6a9b7c3aaa280f1\", element=\"06411B3CF3F4BDC0A3C44316B30C86E4_element_368\")>,\n",
       "   'attribute_list': ['Melee']},\n",
       "  'HP Attack++': {'ability_attack_info': <selenium.webdriver.remote.webelement.WebElement (session=\"cf06110a7efa051ce6a9b7c3aaa280f1\", element=\"06411B3CF3F4BDC0A3C44316B30C86E4_element_369\")>,\n",
       "   'attribute_list': ['Melee']},\n",
       "  'Blade Combo': {'ability_attack_info': <selenium.webdriver.remote.webelement.WebElement (session=\"cf06110a7efa051ce6a9b7c3aaa280f1\", element=\"06411B3CF3F4BDC0A3C44316B30C86E4_element_316\")>,\n",
       "   'attribute_list': ['Group', 'Melee']},\n",
       "  'Shield Rush': {'ability_attack_info': <selenium.webdriver.remote.webelement.WebElement (session=\"cf06110a7efa051ce6a9b7c3aaa280f1\", element=\"06411B3CF3F4BDC0A3C44316B30C86E4_element_370\")>,\n",
       "   'attribute_list': ['Melee']},\n",
       "  'HP Heal Attack All': {'ability_attack_info': <selenium.webdriver.remote.webelement.WebElement (session=\"cf06110a7efa051ce6a9b7c3aaa280f1\", element=\"06411B3CF3F4BDC0A3C44316B30C86E4_element_371\")>,\n",
       "   'attribute_list': ['Heals', 'Instant', 'NoSummon', 'NoEX']},\n",
       "  'Yellow Storm': {'ability_attack_info': <selenium.webdriver.remote.webelement.WebElement (session=\"cf06110a7efa051ce6a9b7c3aaa280f1\", element=\"06411B3CF3F4BDC0A3C44316B30C86E4_element_372\")>,\n",
       "   'attribute_list': ['Melee', 'Thunder']},\n",
       "  'Wide Ruin': {'ability_attack_info': <selenium.webdriver.remote.webelement.WebElement (session=\"cf06110a7efa051ce6a9b7c3aaa280f1\", element=\"06411B3CF3F4BDC0A3C44316B30C86E4_element_373\")>,\n",
       "   'attribute_list': ['Group', 'Melee', 'Thunder', 'NoFree']},\n",
       "  'Remove Obstacle': {'ability_attack_info': <selenium.webdriver.remote.webelement.WebElement (session=\"cf06110a7efa051ce6a9b7c3aaa280f1\", element=\"06411B3CF3F4BDC0A3C44316B30C86E4_element_374\")>,\n",
       "   'attribute_list': ['Group', 'Melee', 'Instant', 'FollowUp']},\n",
       "  'Remove Obstacle+': {'ability_attack_info': <selenium.webdriver.remote.webelement.WebElement (session=\"cf06110a7efa051ce6a9b7c3aaa280f1\", element=\"06411B3CF3F4BDC0A3C44316B30C86E4_element_375\")>,\n",
       "   'attribute_list': ['Group', 'Melee', 'Instant', 'FollowUp']},\n",
       "  'Shining Nova': {'ability_attack_info': <selenium.webdriver.remote.webelement.WebElement (session=\"cf06110a7efa051ce6a9b7c3aaa280f1\", element=\"06411B3CF3F4BDC0A3C44316B30C86E4_element_344\")>,\n",
       "   'attribute_list': ['Melee']},\n",
       "  'Mutual Improvement': {'ability_attack_info': <selenium.webdriver.remote.webelement.WebElement (session=\"cf06110a7efa051ce6a9b7c3aaa280f1\", element=\"06411B3CF3F4BDC0A3C44316B30C86E4_element_376\")>,\n",
       "   'attribute_list': ['Group', 'Melee', 'Thunder', 'NoFree']},\n",
       "  'Enhanced Blade Combo (C)': {'ability_attack_info': <selenium.webdriver.remote.webelement.WebElement (session=\"cf06110a7efa051ce6a9b7c3aaa280f1\", element=\"06411B3CF3F4BDC0A3C44316B30C86E4_element_377\")>,\n",
       "   'attribute_list': ['Group', 'Melee', 'Instant', 'NoEX', 'NoFree']},\n",
       "  'Enhanced Wide Ruin (C)': {'ability_attack_info': <selenium.webdriver.remote.webelement.WebElement (session=\"cf06110a7efa051ce6a9b7c3aaa280f1\", element=\"06411B3CF3F4BDC0A3C44316B30C86E4_element_378\")>,\n",
       "   'attribute_list': ['Group',\n",
       "    'Melee',\n",
       "    'Thunder',\n",
       "    'Instant',\n",
       "    'NoEX',\n",
       "    'NoFree']}}}"
      ]
     },
     "execution_count": 12,
     "metadata": {},
     "output_type": "execute_result"
    }
   ],
   "source": [
    "cs.ability_dict_omnibus"
   ]
  },
  {
   "cell_type": "code",
   "execution_count": 13,
   "id": "97ec783d-42f2-4955-9b3c-942974edc570",
   "metadata": {},
   "outputs": [
    {
     "name": "stdout",
     "output_type": "stream",
     "text": [
      "No ability_dict for amarant.\n",
      "Run `generate_ability_dict(amarant)` first, then `parse_ability_dict_to_df()` should work for them.\n"
     ]
    }
   ],
   "source": [
    "cs.parse_ability_dict_to_df('amarant')"
   ]
  },
  {
   "cell_type": "code",
   "execution_count": 14,
   "id": "1d8fcb04-a967-4fda-8823-32566562ebc3",
   "metadata": {},
   "outputs": [
    {
     "name": "stdout",
     "output_type": "stream",
     "text": [
      "Unable to find a BT for Amarant. Either the character isn't in GL yet, or they lack a BT in both GL and JP.\n"
     ]
    },
    {
     "ename": "UnboundLocalError",
     "evalue": "cannot access local variable 'bt_button_element' where it is not associated with a value",
     "output_type": "error",
     "traceback": [
      "\u001b[1;31m---------------------------------------------------------------------------\u001b[0m",
      "\u001b[1;31mUnboundLocalError\u001b[0m                         Traceback (most recent call last)",
      "Cell \u001b[1;32mIn[14], line 1\u001b[0m\n\u001b[1;32m----> 1\u001b[0m \u001b[43mcs\u001b[49m\u001b[38;5;241;43m.\u001b[39;49m\u001b[43mretrieve_hp_caps_from_bt\u001b[49m\u001b[43m(\u001b[49m\u001b[38;5;124;43m'\u001b[39;49m\u001b[38;5;124;43mamarant\u001b[39;49m\u001b[38;5;124;43m'\u001b[39;49m\u001b[43m,\u001b[49m\u001b[43m \u001b[49m\u001b[43mreturn_output\u001b[49m\u001b[38;5;241;43m=\u001b[39;49m\u001b[38;5;28;43;01mTrue\u001b[39;49;00m\u001b[43m)\u001b[49m\n",
      "File \u001b[1;32m~\\Code\\dffoo-data-pipeline\\web_scraper\\web_scraper.py:434\u001b[0m, in \u001b[0;36mCompendiumScraper.retrieve_hp_caps_from_bt\u001b[1;34m(self, char_name, verbose, JP, return_output)\u001b[0m\n\u001b[0;32m    431\u001b[0m     \u001b[38;5;28mprint\u001b[39m(\u001b[38;5;124mf\u001b[39m\u001b[38;5;124m\"\u001b[39m\u001b[38;5;124mUnable to find a BT for \u001b[39m\u001b[38;5;132;01m{\u001b[39;00mchar_name\u001b[38;5;241m.\u001b[39mtitle()\u001b[38;5;132;01m}\u001b[39;00m\u001b[38;5;124m. Either the character isn\u001b[39m\u001b[38;5;124m'\u001b[39m\u001b[38;5;124mt in GL yet, or they lack a BT in both GL and JP.\u001b[39m\u001b[38;5;124m\"\u001b[39m)\n\u001b[0;32m    433\u001b[0m \u001b[38;5;66;03m# Click on it to make sure that the buff appears\u001b[39;00m\n\u001b[1;32m--> 434\u001b[0m actions\u001b[38;5;241m.\u001b[39mclick(\u001b[43mbt_button_element\u001b[49m)\n\u001b[0;32m    436\u001b[0m \u001b[38;5;66;03m# Scroll down to make sure the BT buff loads fully\u001b[39;00m\n\u001b[0;32m    437\u001b[0m \u001b[38;5;28mself\u001b[39m\u001b[38;5;241m.\u001b[39mdriver\u001b[38;5;241m.\u001b[39mexecute_script(\u001b[38;5;124mf\u001b[39m\u001b[38;5;124m\"\u001b[39m\u001b[38;5;124mwindow.scrollBy(0, 600);\u001b[39m\u001b[38;5;124m\"\u001b[39m)\n",
      "\u001b[1;31mUnboundLocalError\u001b[0m: cannot access local variable 'bt_button_element' where it is not associated with a value"
     ]
    }
   ],
   "source": [
    "cs.retrieve_hp_caps_from_bt('amarant', return_output=True)"
   ]
  },
  {
   "cell_type": "code",
   "execution_count": 15,
   "id": "4baacb0c-0627-464b-bcef-37eeabfee6f3",
   "metadata": {},
   "outputs": [
    {
     "data": {
      "text/plain": [
       "{'reks': {'char_name': 'reks',\n",
       "  'bt_personal_hp_dmg_cap_up': 0,\n",
       "  'bt_party_hp_dmg_cap_up': 30}}"
      ]
     },
     "execution_count": 15,
     "metadata": {},
     "output_type": "execute_result"
    }
   ],
   "source": [
    "cs.bt_effect_dict_omnibus"
   ]
  },
  {
   "cell_type": "code",
   "execution_count": 16,
   "id": "1936afcd-c51d-4372-bcdc-c3ae075b302e",
   "metadata": {},
   "outputs": [
    {
     "name": "stdout",
     "output_type": "stream",
     "text": [
      "Unable to find High Armor info for Amarant.\n",
      "They might not be released to GL yet.\n"
     ]
    }
   ],
   "source": [
    "cs.retrieve_ha_hp_dmg_cap_up('amarant', return_output=True)"
   ]
  },
  {
   "cell_type": "code",
   "execution_count": 17,
   "id": "0845cb4c-7ea2-42c4-9b84-6aab8bd681e2",
   "metadata": {},
   "outputs": [
    {
     "data": {
      "text/plain": [
       "{'reks': {'char_name': 'reks',\n",
       "  'personal_hp_dmg_cap_up': 0,\n",
       "  'party_ha_hp_dmg_cap_up': 15}}"
      ]
     },
     "execution_count": 17,
     "metadata": {},
     "output_type": "execute_result"
    }
   ],
   "source": [
    "cs.ha_dict_omnibus"
   ]
  },
  {
   "cell_type": "code",
   "execution_count": 19,
   "id": "bf2e02b0-0da3-4008-8409-e47ceafd360f",
   "metadata": {},
   "outputs": [
    {
     "data": {
      "text/plain": [
       "['amarant', 'amarant']"
      ]
     },
     "execution_count": 19,
     "metadata": {},
     "output_type": "execute_result"
    }
   ],
   "source": [
    "cs.chars_not_in_gl_yet"
   ]
  },
  {
   "cell_type": "code",
   "execution_count": null,
   "id": "8e811f89-031b-4570-9424-a81c725170b0",
   "metadata": {},
   "outputs": [],
   "source": []
  }
 ],
 "metadata": {
  "kernelspec": {
   "display_name": "Python 3 (ipykernel)",
   "language": "python",
   "name": "python3"
  },
  "language_info": {
   "codemirror_mode": {
    "name": "ipython",
    "version": 3
   },
   "file_extension": ".py",
   "mimetype": "text/x-python",
   "name": "python",
   "nbconvert_exporter": "python",
   "pygments_lexer": "ipython3",
   "version": "3.11.4"
  }
 },
 "nbformat": 4,
 "nbformat_minor": 5
}
