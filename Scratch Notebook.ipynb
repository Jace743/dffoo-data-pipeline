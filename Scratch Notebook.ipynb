{
 "cells": [
  {
   "cell_type": "code",
   "execution_count": 8,
   "id": "2c332bac-a681-46a4-9eb0-388c9e059f53",
   "metadata": {},
   "outputs": [],
   "source": [
    "from web_scraper.web_scraper import CompendiumScraper\n",
    "import pandas as pd\n",
    "from selenium.webdriver.common.by import By\n",
    "import psycopg2\n",
    "import subprocess\n",
    "import yaml\n",
    "import sqlalchemy as sa"
   ]
  },
  {
   "cell_type": "code",
   "execution_count": 9,
   "id": "9f8996dd-4a2f-4e75-a74b-2954d6dbd341",
   "metadata": {},
   "outputs": [],
   "source": [
    "with open(r'c:\\Users\\jasre\\Code\\ws_config.yml', 'r') as yml:\n",
    "    config = yaml.safe_load(yml)"
   ]
  },
  {
   "cell_type": "code",
   "execution_count": 18,
   "id": "c587ccd3-32f4-4499-b84c-0c72f6bc84d8",
   "metadata": {},
   "outputs": [],
   "source": [
    "engine_url = sa.URL.create(\n",
    "    \"postgresql\",\n",
    "    username=config['pgdb_user'],\n",
    "    password=config['pgdb_pass'],\n",
    "    host=config['pgdb_host'],\n",
    "    database=config['pgdb_data']\n",
    ")"
   ]
  },
  {
   "cell_type": "code",
   "execution_count": null,
   "id": "b2944773-34b5-45d9-9520-036becb2274d",
   "metadata": {},
   "outputs": [],
   "source": [
    "engine = sa.create_engine(engine_url, echo=True)"
   ]
  },
  {
   "cell_type": "code",
   "execution_count": 21,
   "id": "81f88680-c5a1-4fea-89e3-02280cdf8b8b",
   "metadata": {},
   "outputs": [],
   "source": [
    "raw_abilities = pd.read_csv(config['datasets_dir'] + 'raw_abilities_2.csv')"
   ]
  },
  {
   "cell_type": "code",
   "execution_count": 23,
   "id": "95dea49e-d524-4f47-b271-a92c0c5d2103",
   "metadata": {},
   "outputs": [
    {
     "name": "stdout",
     "output_type": "stream",
     "text": [
      "2023-08-20 09:56:54,239 INFO sqlalchemy.engine.Engine select pg_catalog.version()\n",
      "2023-08-20 09:56:54,241 INFO sqlalchemy.engine.Engine [raw sql] {}\n",
      "2023-08-20 09:56:54,246 INFO sqlalchemy.engine.Engine select current_schema()\n",
      "2023-08-20 09:56:54,247 INFO sqlalchemy.engine.Engine [raw sql] {}\n",
      "2023-08-20 09:56:54,254 INFO sqlalchemy.engine.Engine show standard_conforming_strings\n",
      "2023-08-20 09:56:54,255 INFO sqlalchemy.engine.Engine [raw sql] {}\n",
      "2023-08-20 09:56:54,257 INFO sqlalchemy.engine.Engine BEGIN (implicit)\n",
      "2023-08-20 09:56:54,311 INFO sqlalchemy.engine.Engine SELECT pg_catalog.pg_class.relname \n",
      "FROM pg_catalog.pg_class JOIN pg_catalog.pg_namespace ON pg_catalog.pg_namespace.oid = pg_catalog.pg_class.relnamespace \n",
      "WHERE pg_catalog.pg_class.relname = %(table_name)s AND pg_catalog.pg_class.relkind = ANY (ARRAY[%(param_1)s, %(param_2)s, %(param_3)s, %(param_4)s, %(param_5)s]) AND pg_catalog.pg_table_is_visible(pg_catalog.pg_class.oid) AND pg_catalog.pg_namespace.nspname != %(nspname_1)s\n",
      "2023-08-20 09:56:54,312 INFO sqlalchemy.engine.Engine [generated in 0.00098s] {'table_name': 'raw_abilities', 'param_1': 'r', 'param_2': 'p', 'param_3': 'f', 'param_4': 'v', 'param_5': 'm', 'nspname_1': 'pg_catalog'}\n",
      "2023-08-20 09:56:54,321 INFO sqlalchemy.engine.Engine SELECT pg_catalog.pg_class.relname \n",
      "FROM pg_catalog.pg_class JOIN pg_catalog.pg_namespace ON pg_catalog.pg_namespace.oid = pg_catalog.pg_class.relnamespace \n",
      "WHERE pg_catalog.pg_class.relname = %(table_name)s AND pg_catalog.pg_class.relkind = ANY (ARRAY[%(param_1)s, %(param_2)s, %(param_3)s, %(param_4)s, %(param_5)s]) AND pg_catalog.pg_table_is_visible(pg_catalog.pg_class.oid) AND pg_catalog.pg_namespace.nspname != %(nspname_1)s\n",
      "2023-08-20 09:56:54,321 INFO sqlalchemy.engine.Engine [cached since 0.01013s ago] {'table_name': 'raw_abilities', 'param_1': 'r', 'param_2': 'p', 'param_3': 'f', 'param_4': 'v', 'param_5': 'm', 'nspname_1': 'pg_catalog'}\n",
      "2023-08-20 09:56:54,324 INFO sqlalchemy.engine.Engine SELECT pg_catalog.pg_class.relname \n",
      "FROM pg_catalog.pg_class JOIN pg_catalog.pg_namespace ON pg_catalog.pg_namespace.oid = pg_catalog.pg_class.relnamespace \n",
      "WHERE pg_catalog.pg_class.relkind = ANY (ARRAY[%(param_1)s, %(param_2)s]) AND pg_catalog.pg_class.relpersistence != %(relpersistence_1)s AND pg_catalog.pg_table_is_visible(pg_catalog.pg_class.oid) AND pg_catalog.pg_namespace.nspname != %(nspname_1)s\n",
      "2023-08-20 09:56:54,325 INFO sqlalchemy.engine.Engine [generated in 0.00067s] {'param_1': 'r', 'param_2': 'p', 'relpersistence_1': 't', 'nspname_1': 'pg_catalog'}\n",
      "2023-08-20 09:56:54,338 INFO sqlalchemy.engine.Engine SELECT pg_catalog.pg_attribute.attname AS name, pg_catalog.format_type(pg_catalog.pg_attribute.atttypid, pg_catalog.pg_attribute.atttypmod) AS format_type, (SELECT pg_catalog.pg_get_expr(pg_catalog.pg_attrdef.adbin, pg_catalog.pg_attrdef.adrelid) AS pg_get_expr_1 \n",
      "FROM pg_catalog.pg_attrdef \n",
      "WHERE pg_catalog.pg_attrdef.adrelid = pg_catalog.pg_attribute.attrelid AND pg_catalog.pg_attrdef.adnum = pg_catalog.pg_attribute.attnum AND pg_catalog.pg_attribute.atthasdef) AS \"default\", pg_catalog.pg_attribute.attnotnull AS not_null, pg_catalog.pg_class.relname AS table_name, pg_catalog.pg_description.description AS comment, pg_catalog.pg_attribute.attgenerated AS generated, (SELECT json_build_object(%(json_build_object_2)s, pg_catalog.pg_attribute.attidentity = %(attidentity_1)s, %(json_build_object_3)s, pg_catalog.pg_sequence.seqstart, %(json_build_object_4)s, pg_catalog.pg_sequence.seqincrement, %(json_build_object_5)s, pg_catalog.pg_sequence.seqmin, %(json_build_object_6)s, pg_catalog.pg_sequence.seqmax, %(json_build_object_7)s, pg_catalog.pg_sequence.seqcache, %(json_build_object_8)s, pg_catalog.pg_sequence.seqcycle) AS json_build_object_1 \n",
      "FROM pg_catalog.pg_sequence \n",
      "WHERE pg_catalog.pg_attribute.attidentity != %(attidentity_2)s AND pg_catalog.pg_sequence.seqrelid = CAST(CAST(pg_catalog.pg_get_serial_sequence(CAST(CAST(pg_catalog.pg_attribute.attrelid AS REGCLASS) AS TEXT), pg_catalog.pg_attribute.attname) AS REGCLASS) AS OID)) AS identity_options \n",
      "FROM pg_catalog.pg_class LEFT OUTER JOIN pg_catalog.pg_attribute ON pg_catalog.pg_class.oid = pg_catalog.pg_attribute.attrelid AND pg_catalog.pg_attribute.attnum > %(attnum_1)s AND NOT pg_catalog.pg_attribute.attisdropped LEFT OUTER JOIN pg_catalog.pg_description ON pg_catalog.pg_description.objoid = pg_catalog.pg_attribute.attrelid AND pg_catalog.pg_description.objsubid = pg_catalog.pg_attribute.attnum JOIN pg_catalog.pg_namespace ON pg_catalog.pg_namespace.oid = pg_catalog.pg_class.relnamespace \n",
      "WHERE pg_catalog.pg_class.relkind = ANY (ARRAY[%(param_1)s, %(param_2)s, %(param_3)s]) AND pg_catalog.pg_table_is_visible(pg_catalog.pg_class.oid) AND pg_catalog.pg_namespace.nspname != %(nspname_1)s AND pg_catalog.pg_class.relname IN (%(filter_names_1)s) ORDER BY pg_catalog.pg_class.relname, pg_catalog.pg_attribute.attnum\n",
      "2023-08-20 09:56:54,338 INFO sqlalchemy.engine.Engine [generated in 0.00091s] {'json_build_object_2': 'always', 'attidentity_1': 'a', 'json_build_object_3': 'start', 'json_build_object_4': 'increment', 'json_build_object_5': 'minvalue', 'json_build_object_6': 'maxvalue', 'json_build_object_7': 'cache', 'json_build_object_8': 'cycle', 'attidentity_2': '', 'attnum_1': 0, 'param_1': 'r', 'param_2': 'p', 'param_3': 'f', 'nspname_1': 'pg_catalog', 'filter_names_1': 'raw_abilities'}\n",
      "2023-08-20 09:56:54,360 INFO sqlalchemy.engine.Engine SELECT pg_catalog.pg_type.typname AS name, pg_catalog.format_type(pg_catalog.pg_type.typbasetype, pg_catalog.pg_type.typtypmod) AS attype, NOT pg_catalog.pg_type.typnotnull AS nullable, pg_catalog.pg_type.typdefault AS \"default\", pg_catalog.pg_type_is_visible(pg_catalog.pg_type.oid) AS visible, pg_catalog.pg_namespace.nspname AS schema, domain_constraints.condefs, domain_constraints.connames \n",
      "FROM pg_catalog.pg_type JOIN pg_catalog.pg_namespace ON pg_catalog.pg_namespace.oid = pg_catalog.pg_type.typnamespace LEFT OUTER JOIN (SELECT pg_catalog.pg_constraint.contypid AS contypid, array_agg(pg_catalog.pg_get_constraintdef(pg_catalog.pg_constraint.oid, %(pg_get_constraintdef_1)s)) AS condefs, array_agg(CAST(pg_catalog.pg_constraint.conname AS TEXT)) AS connames \n",
      "FROM pg_catalog.pg_constraint \n",
      "WHERE pg_catalog.pg_constraint.contypid != %(contypid_1)s GROUP BY pg_catalog.pg_constraint.contypid) AS domain_constraints ON pg_catalog.pg_type.oid = domain_constraints.contypid \n",
      "WHERE pg_catalog.pg_type.typtype = %(typtype_1)s ORDER BY pg_catalog.pg_namespace.nspname, pg_catalog.pg_type.typname\n",
      "2023-08-20 09:56:54,360 INFO sqlalchemy.engine.Engine [generated in 0.00074s] {'pg_get_constraintdef_1': True, 'contypid_1': 0, 'typtype_1': 'd'}\n",
      "2023-08-20 09:56:54,373 INFO sqlalchemy.engine.Engine SELECT pg_catalog.pg_type.typname AS name, pg_catalog.pg_type_is_visible(pg_catalog.pg_type.oid) AS visible, pg_catalog.pg_namespace.nspname AS schema, lbl_agg.labels AS labels \n",
      "FROM pg_catalog.pg_type JOIN pg_catalog.pg_namespace ON pg_catalog.pg_namespace.oid = pg_catalog.pg_type.typnamespace LEFT OUTER JOIN (SELECT pg_catalog.pg_enum.enumtypid AS enumtypid, array_agg(CAST(pg_catalog.pg_enum.enumlabel AS TEXT) ORDER BY pg_catalog.pg_enum.enumsortorder) AS labels \n",
      "FROM pg_catalog.pg_enum GROUP BY pg_catalog.pg_enum.enumtypid) AS lbl_agg ON pg_catalog.pg_type.oid = lbl_agg.enumtypid \n",
      "WHERE pg_catalog.pg_type.typtype = %(typtype_1)s ORDER BY pg_catalog.pg_namespace.nspname, pg_catalog.pg_type.typname\n",
      "2023-08-20 09:56:54,374 INFO sqlalchemy.engine.Engine [generated in 0.00081s] {'typtype_1': 'e'}\n",
      "2023-08-20 09:56:54,388 INFO sqlalchemy.engine.Engine SELECT pg_catalog.pg_class.oid, pg_catalog.pg_class.relname \n",
      "FROM pg_catalog.pg_class JOIN pg_catalog.pg_namespace ON pg_catalog.pg_namespace.oid = pg_catalog.pg_class.relnamespace \n",
      "WHERE pg_catalog.pg_class.relkind = ANY (ARRAY[%(param_1)s, %(param_2)s, %(param_3)s]) AND pg_catalog.pg_table_is_visible(pg_catalog.pg_class.oid) AND pg_catalog.pg_namespace.nspname != %(nspname_1)s AND pg_catalog.pg_class.relname IN (%(filter_names_1)s)\n",
      "2023-08-20 09:56:54,389 INFO sqlalchemy.engine.Engine [generated in 0.00077s] {'param_1': 'r', 'param_2': 'p', 'param_3': 'f', 'nspname_1': 'pg_catalog', 'filter_names_1': 'raw_abilities'}\n",
      "2023-08-20 09:56:54,394 INFO sqlalchemy.engine.Engine SELECT attr.conrelid, array_agg(CAST(attr.attname AS TEXT) ORDER BY attr.ord) AS cols, attr.conname, min(attr.description) AS description, NULL AS extra \n",
      "FROM (SELECT con.conrelid AS conrelid, con.conname AS conname, con.conindid AS conindid, con.description AS description, con.ord AS ord, pg_catalog.pg_attribute.attname AS attname \n",
      "FROM pg_catalog.pg_attribute JOIN (SELECT pg_catalog.pg_constraint.conrelid AS conrelid, pg_catalog.pg_constraint.conname AS conname, pg_catalog.pg_constraint.conindid AS conindid, unnest(pg_catalog.pg_constraint.conkey) AS attnum, generate_subscripts(pg_catalog.pg_constraint.conkey, %(generate_subscripts_1)s) AS ord, pg_catalog.pg_description.description AS description \n",
      "FROM pg_catalog.pg_constraint LEFT OUTER JOIN pg_catalog.pg_description ON pg_catalog.pg_description.objoid = pg_catalog.pg_constraint.oid \n",
      "WHERE pg_catalog.pg_constraint.contype = %(contype)s AND pg_catalog.pg_constraint.conrelid IN (%(oids_1)s)) AS con ON pg_catalog.pg_attribute.attnum = con.attnum AND pg_catalog.pg_attribute.attrelid = con.conrelid \n",
      "WHERE con.conrelid IN (%(oids_1)s)) AS attr GROUP BY attr.conrelid, attr.conname ORDER BY attr.conrelid, attr.conname\n",
      "2023-08-20 09:56:54,394 INFO sqlalchemy.engine.Engine [generated in 0.00084s] {'generate_subscripts_1': 1, 'contype': 'p', 'oids_1': 16667}\n",
      "2023-08-20 09:56:54,409 INFO sqlalchemy.engine.Engine SELECT pg_catalog.pg_class.relname, pg_catalog.pg_constraint.conname, CASE WHEN (pg_catalog.pg_constraint.oid IS NOT NULL) THEN pg_catalog.pg_get_constraintdef(pg_catalog.pg_constraint.oid, %(pg_get_constraintdef_1)s) END AS anon_1, nsp_ref.nspname, pg_catalog.pg_description.description \n",
      "FROM pg_catalog.pg_class LEFT OUTER JOIN pg_catalog.pg_constraint ON pg_catalog.pg_class.oid = pg_catalog.pg_constraint.conrelid AND pg_catalog.pg_constraint.contype = %(contype_1)s LEFT OUTER JOIN pg_catalog.pg_class AS cls_ref ON cls_ref.oid = pg_catalog.pg_constraint.confrelid LEFT OUTER JOIN pg_catalog.pg_namespace AS nsp_ref ON cls_ref.relnamespace = nsp_ref.oid LEFT OUTER JOIN pg_catalog.pg_description ON pg_catalog.pg_description.objoid = pg_catalog.pg_constraint.oid JOIN pg_catalog.pg_namespace ON pg_catalog.pg_namespace.oid = pg_catalog.pg_class.relnamespace \n",
      "WHERE pg_catalog.pg_class.relkind = ANY (ARRAY[%(param_1)s, %(param_2)s, %(param_3)s]) AND pg_catalog.pg_table_is_visible(pg_catalog.pg_class.oid) AND pg_catalog.pg_namespace.nspname != %(nspname_1)s AND pg_catalog.pg_class.relname IN (%(filter_names_1)s) ORDER BY pg_catalog.pg_class.relname, pg_catalog.pg_constraint.conname\n",
      "2023-08-20 09:56:54,409 INFO sqlalchemy.engine.Engine [generated in 0.00087s] {'pg_get_constraintdef_1': True, 'contype_1': 'f', 'param_1': 'r', 'param_2': 'p', 'param_3': 'f', 'nspname_1': 'pg_catalog', 'filter_names_1': 'raw_abilities'}\n",
      "2023-08-20 09:56:54,419 INFO sqlalchemy.engine.Engine SELECT pg_catalog.pg_index.indrelid, cls_idx.relname AS relname_index, pg_catalog.pg_index.indisunique, pg_catalog.pg_constraint.conrelid IS NOT NULL AS has_constraint, pg_catalog.pg_index.indoption, cls_idx.reloptions, pg_catalog.pg_am.amname, CASE WHEN (pg_catalog.pg_index.indpred IS NOT NULL) THEN pg_catalog.pg_get_expr(pg_catalog.pg_index.indpred, pg_catalog.pg_index.indrelid) END AS filter_definition, pg_catalog.pg_index.indnkeyatts, pg_catalog.pg_index.indnullsnotdistinct, idx_cols.elements, idx_cols.elements_is_expr \n",
      "FROM pg_catalog.pg_index JOIN pg_catalog.pg_class AS cls_idx ON pg_catalog.pg_index.indexrelid = cls_idx.oid JOIN pg_catalog.pg_am ON cls_idx.relam = pg_catalog.pg_am.oid LEFT OUTER JOIN (SELECT idx_attr.indexrelid AS indexrelid, min(idx_attr.indrelid) AS min_1, array_agg(idx_attr.element ORDER BY idx_attr.ord) AS elements, array_agg(idx_attr.is_expr ORDER BY idx_attr.ord) AS elements_is_expr \n",
      "FROM (SELECT idx.indexrelid AS indexrelid, idx.indrelid AS indrelid, idx.ord AS ord, CASE WHEN (idx.attnum = %(attnum_1)s) THEN pg_catalog.pg_get_indexdef(idx.indexrelid, idx.ord + %(ord_1)s, %(pg_get_indexdef_1)s) ELSE CAST(pg_catalog.pg_attribute.attname AS TEXT) END AS element, idx.attnum = %(attnum_2)s AS is_expr \n",
      "FROM (SELECT pg_catalog.pg_index.indexrelid AS indexrelid, pg_catalog.pg_index.indrelid AS indrelid, unnest(pg_catalog.pg_index.indkey) AS attnum, generate_subscripts(pg_catalog.pg_index.indkey, %(generate_subscripts_1)s) AS ord \n",
      "FROM pg_catalog.pg_index \n",
      "WHERE NOT pg_catalog.pg_index.indisprimary AND pg_catalog.pg_index.indrelid IN (%(oids_1)s)) AS idx LEFT OUTER JOIN pg_catalog.pg_attribute ON pg_catalog.pg_attribute.attnum = idx.attnum AND pg_catalog.pg_attribute.attrelid = idx.indrelid \n",
      "WHERE idx.indrelid IN (%(oids_1)s)) AS idx_attr GROUP BY idx_attr.indexrelid) AS idx_cols ON pg_catalog.pg_index.indexrelid = idx_cols.indexrelid LEFT OUTER JOIN pg_catalog.pg_constraint ON pg_catalog.pg_index.indrelid = pg_catalog.pg_constraint.conrelid AND pg_catalog.pg_index.indexrelid = pg_catalog.pg_constraint.conindid AND pg_catalog.pg_constraint.contype = ANY (ARRAY[%(param_1)s, %(param_2)s, %(param_3)s]) \n",
      "WHERE pg_catalog.pg_index.indrelid IN (%(oids_1)s) AND NOT pg_catalog.pg_index.indisprimary ORDER BY pg_catalog.pg_index.indrelid, cls_idx.relname\n",
      "2023-08-20 09:56:54,419 INFO sqlalchemy.engine.Engine [generated in 0.00085s] {'attnum_1': 0, 'ord_1': 1, 'pg_get_indexdef_1': True, 'attnum_2': 0, 'generate_subscripts_1': 1, 'param_1': 'p', 'param_2': 'u', 'param_3': 'x', 'oids_1': 16667}\n",
      "2023-08-20 09:56:54,426 INFO sqlalchemy.engine.Engine SELECT attr.conrelid, array_agg(CAST(attr.attname AS TEXT) ORDER BY attr.ord) AS cols, attr.conname, min(attr.description) AS description, bool_and(pg_catalog.pg_index.indnullsnotdistinct) AS indnullsnotdistinct \n",
      "FROM (SELECT con.conrelid AS conrelid, con.conname AS conname, con.conindid AS conindid, con.description AS description, con.ord AS ord, pg_catalog.pg_attribute.attname AS attname \n",
      "FROM pg_catalog.pg_attribute JOIN (SELECT pg_catalog.pg_constraint.conrelid AS conrelid, pg_catalog.pg_constraint.conname AS conname, pg_catalog.pg_constraint.conindid AS conindid, unnest(pg_catalog.pg_constraint.conkey) AS attnum, generate_subscripts(pg_catalog.pg_constraint.conkey, %(generate_subscripts_1)s) AS ord, pg_catalog.pg_description.description AS description \n",
      "FROM pg_catalog.pg_constraint LEFT OUTER JOIN pg_catalog.pg_description ON pg_catalog.pg_description.objoid = pg_catalog.pg_constraint.oid \n",
      "WHERE pg_catalog.pg_constraint.contype = %(contype)s AND pg_catalog.pg_constraint.conrelid IN (%(oids_1)s)) AS con ON pg_catalog.pg_attribute.attnum = con.attnum AND pg_catalog.pg_attribute.attrelid = con.conrelid \n",
      "WHERE con.conrelid IN (%(oids_1)s)) AS attr JOIN pg_catalog.pg_index ON attr.conindid = pg_catalog.pg_index.indexrelid GROUP BY attr.conrelid, attr.conname ORDER BY attr.conrelid, attr.conname\n",
      "2023-08-20 09:56:54,427 INFO sqlalchemy.engine.Engine [generated in 0.00074s] {'generate_subscripts_1': 1, 'contype': 'u', 'oids_1': 16667}\n",
      "2023-08-20 09:56:54,431 INFO sqlalchemy.engine.Engine SELECT pg_catalog.pg_class.relname, pg_catalog.pg_description.description \n",
      "FROM pg_catalog.pg_class LEFT OUTER JOIN pg_catalog.pg_description ON pg_catalog.pg_class.oid = pg_catalog.pg_description.objoid AND pg_catalog.pg_description.objsubid = %(objsubid_1)s JOIN pg_catalog.pg_namespace ON pg_catalog.pg_namespace.oid = pg_catalog.pg_class.relnamespace \n",
      "WHERE pg_catalog.pg_class.relkind = ANY (ARRAY[%(param_1)s, %(param_2)s, %(param_3)s]) AND pg_catalog.pg_table_is_visible(pg_catalog.pg_class.oid) AND pg_catalog.pg_namespace.nspname != %(nspname_1)s AND pg_catalog.pg_class.relname IN (%(filter_names_1)s)\n",
      "2023-08-20 09:56:54,436 INFO sqlalchemy.engine.Engine [generated in 0.00575s] {'objsubid_1': 0, 'param_1': 'r', 'param_2': 'p', 'param_3': 'f', 'nspname_1': 'pg_catalog', 'filter_names_1': 'raw_abilities'}\n",
      "2023-08-20 09:56:54,439 INFO sqlalchemy.engine.Engine SELECT pg_catalog.pg_class.relname, pg_catalog.pg_constraint.conname, CASE WHEN (pg_catalog.pg_constraint.oid IS NOT NULL) THEN pg_catalog.pg_get_constraintdef(pg_catalog.pg_constraint.oid, %(pg_get_constraintdef_1)s) END AS anon_1, pg_catalog.pg_description.description \n",
      "FROM pg_catalog.pg_class LEFT OUTER JOIN pg_catalog.pg_constraint ON pg_catalog.pg_class.oid = pg_catalog.pg_constraint.conrelid AND pg_catalog.pg_constraint.contype = %(contype_1)s LEFT OUTER JOIN pg_catalog.pg_description ON pg_catalog.pg_description.objoid = pg_catalog.pg_constraint.oid JOIN pg_catalog.pg_namespace ON pg_catalog.pg_namespace.oid = pg_catalog.pg_class.relnamespace \n",
      "WHERE pg_catalog.pg_class.relkind = ANY (ARRAY[%(param_1)s, %(param_2)s, %(param_3)s]) AND pg_catalog.pg_table_is_visible(pg_catalog.pg_class.oid) AND pg_catalog.pg_namespace.nspname != %(nspname_1)s AND pg_catalog.pg_class.relname IN (%(filter_names_1)s) ORDER BY pg_catalog.pg_class.relname, pg_catalog.pg_constraint.conname\n",
      "2023-08-20 09:56:54,440 INFO sqlalchemy.engine.Engine [generated in 0.00068s] {'pg_get_constraintdef_1': True, 'contype_1': 'c', 'param_1': 'r', 'param_2': 'p', 'param_3': 'f', 'nspname_1': 'pg_catalog', 'filter_names_1': 'raw_abilities'}\n",
      "2023-08-20 09:56:54,442 INFO sqlalchemy.engine.Engine SELECT pg_catalog.pg_class.relname \n",
      "FROM pg_catalog.pg_class JOIN pg_catalog.pg_namespace ON pg_catalog.pg_namespace.oid = pg_catalog.pg_class.relnamespace \n",
      "WHERE pg_catalog.pg_class.relkind = ANY (ARRAY[%(param_1)s, %(param_2)s]) AND pg_catalog.pg_class.relpersistence = %(relpersistence_1)s AND pg_catalog.pg_table_is_visible(pg_catalog.pg_class.oid) AND pg_catalog.pg_namespace.nspname != %(nspname_1)s\n",
      "2023-08-20 09:56:54,443 INFO sqlalchemy.engine.Engine [generated in 0.00063s] {'param_1': 'r', 'param_2': 'p', 'relpersistence_1': 't', 'nspname_1': 'pg_catalog'}\n",
      "2023-08-20 09:56:54,445 INFO sqlalchemy.engine.Engine \n",
      "DROP TABLE raw_abilities\n",
      "2023-08-20 09:56:54,446 INFO sqlalchemy.engine.Engine [no key 0.00052s] {}\n",
      "2023-08-20 09:56:54,461 INFO sqlalchemy.engine.Engine \n",
      "CREATE TABLE raw_abilities (\n",
      "\tchar_name TEXT, \n",
      "\tability_name TEXT, \n",
      "\tability_id FLOAT(53), \n",
      "\tmain_target_hp_attacks BIGINT, \n",
      "\tnon_target_hp_attacks BIGINT, \n",
      "\thp_dmg_cap_up_perc BIGINT, \n",
      "\tattribute_list TEXT, \n",
      "\tgame_version TEXT\n",
      ")\n",
      "\n",
      "\n",
      "2023-08-20 09:56:54,461 INFO sqlalchemy.engine.Engine [no key 0.00060s] {}\n",
      "2023-08-20 09:56:54,893 INFO sqlalchemy.engine.Engine INSERT INTO raw_abilities (char_name, ability_name, ability_id, main_target_hp_attacks, non_target_hp_attacks, hp_dmg_cap_up_perc, attribute_list, game_version) VALUES (%(char_name__0)s, %(ability_name__0)s, %(ability_id__0)s, %(main_target_hp_attack ... 206936 characters truncated ... rget_hp_attacks__999)s, %(hp_dmg_cap_up_perc__999)s, %(attribute_list__999)s, %(game_version__999)s)\n",
      "2023-08-20 09:56:54,893 INFO sqlalchemy.engine.Engine [generated in 0.01216s (insertmanyvalues) 1/4 (unordered)] {'game_version__0': 'GL', 'attribute_list__0': \"['Magic']\", 'main_target_hp_attacks__0': 0, 'ability_id__0': 20190.0, 'ability_name__0': 'BRV Attack++', 'char_name__0': 'astos', 'non_target_hp_attacks__0': 0, 'hp_dmg_cap_up_perc__0': 0, 'game_version__1': 'GL', 'attribute_list__1': \"['Magic']\", 'main_target_hp_attacks__1': 0, 'ability_id__1': 20181.0, 'ability_name__1': 'BRV Attack+', 'char_name__1': 'astos', 'non_target_hp_attacks__1': 0, 'hp_dmg_cap_up_perc__1': 0, 'game_version__2': 'GL', 'attribute_list__2': \"['Magic']\", 'main_target_hp_attacks__2': 1, 'ability_id__2': 20191.0, 'ability_name__2': 'HP Attack++', 'char_name__2': 'astos', 'non_target_hp_attacks__2': 0, 'hp_dmg_cap_up_perc__2': 0, 'game_version__3': 'GL', 'attribute_list__3': \"['Group', 'Magic', 'Instant']\", 'main_target_hp_attacks__3': 1, 'ability_id__3': 20189.0, 'ability_name__3': 'Cremation', 'char_name__3': 'astos', 'non_target_hp_attacks__3': 1, 'hp_dmg_cap_up_perc__3': 10, 'game_version__4': 'GL', 'attribute_list__4': \"['Magic']\", 'main_target_hp_attacks__4': 1, 'ability_id__4': 20182.0, 'ability_name__4': 'HP Attack+', 'char_name__4': 'astos', 'non_target_hp_attacks__4': 0, 'hp_dmg_cap_up_perc__4': 0, 'game_version__5': 'GL', 'attribute_list__5': \"['Magic']\", 'main_target_hp_attacks__5': 10, 'ability_id__5': 20176.0, 'ability_name__5': 'Dark Thrust', 'char_name__5': 'astos', 'non_target_hp_attacks__5': 0, 'hp_dmg_cap_up_perc__5': 20, 'game_version__6': 'GL', 'attribute_list__6': \"['Group', 'Magic']\" ... 7900 parameters truncated ... 'non_target_hp_attacks__993': 1, 'hp_dmg_cap_up_perc__993': 400, 'game_version__994': 'GL', 'attribute_list__994': \"['Group', 'Melee', 'Ice', 'Wind', 'Instant', 'NoEX', 'NoFree']\", 'main_target_hp_attacks__994': 1, 'ability_id__994': 12717.0, 'ability_name__994': 'Enhanced Tempeststrike (C)', 'char_name__994': 'noel', 'non_target_hp_attacks__994': 1, 'hp_dmg_cap_up_perc__994': 0, 'game_version__995': 'GL', 'attribute_list__995': \"['Group', 'Melee', 'Instant', 'NoEX', 'NoFree']\", 'main_target_hp_attacks__995': 1, 'ability_id__995': 12719.0, 'ability_name__995': 'Enhanced Big Bang (C)', 'char_name__995': 'noel', 'non_target_hp_attacks__995': 1, 'hp_dmg_cap_up_perc__995': 0, 'game_version__996': 'GL', 'attribute_list__996': \"['Magic']\", 'main_target_hp_attacks__996': 0, 'ability_id__996': 4646.0, 'ability_name__996': 'Sic', 'char_name__996': 'alphinaud', 'non_target_hp_attacks__996': 0, 'hp_dmg_cap_up_perc__996': 0, 'game_version__997': 'GL', 'attribute_list__997': \"['Group', 'Magic']\", 'main_target_hp_attacks__997': 1, 'ability_id__997': 8274.0, 'ability_name__997': 'Sic (Obsidian)', 'char_name__997': 'alphinaud', 'non_target_hp_attacks__997': 1, 'hp_dmg_cap_up_perc__997': 0, 'game_version__998': 'GL', 'attribute_list__998': \"['Group', 'Magic']\", 'main_target_hp_attacks__998': 2, 'ability_id__998': 16341.0, 'ability_name__998': 'Sic (Obsidian)++', 'char_name__998': 'alphinaud', 'non_target_hp_attacks__998': 2, 'hp_dmg_cap_up_perc__998': 0, 'game_version__999': 'GL', 'attribute_list__999': \"['Group', 'Magic']\", 'main_target_hp_attacks__999': 1, 'ability_id__999': 8279.0, 'ability_name__999': 'Sic (Obsidian)+', 'char_name__999': 'alphinaud', 'non_target_hp_attacks__999': 1, 'hp_dmg_cap_up_perc__999': 0}\n",
      "2023-08-20 09:56:54,923 INFO sqlalchemy.engine.Engine INSERT INTO raw_abilities (char_name, ability_name, ability_id, main_target_hp_attacks, non_target_hp_attacks, hp_dmg_cap_up_perc, attribute_list, game_version) VALUES (%(char_name__0)s, %(ability_name__0)s, %(ability_id__0)s, %(main_target_hp_attack ... 206936 characters truncated ... rget_hp_attacks__999)s, %(hp_dmg_cap_up_perc__999)s, %(attribute_list__999)s, %(game_version__999)s)\n",
      "2023-08-20 09:56:54,923 INFO sqlalchemy.engine.Engine [insertmanyvalues 2/4 (unordered)] {'game_version__0': 'GL', 'attribute_list__0': \"['Magic']\", 'main_target_hp_attacks__0': 1, 'ability_id__0': 4650.0, 'ability_name__0': 'Shining Moonstone', 'char_name__0': 'alphinaud', 'non_target_hp_attacks__0': 0, 'hp_dmg_cap_up_perc__0': 0, 'game_version__1': 'GL', 'attribute_list__1': \"['Magic']\", 'main_target_hp_attacks__1': 1, 'ability_id__1': 8275.0, 'ability_name__1': 'Shining Obsidian', 'char_name__1': 'alphinaud', 'non_target_hp_attacks__1': 1, 'hp_dmg_cap_up_perc__1': 0, 'game_version__2': 'GL', 'attribute_list__2': \"['Magic']\", 'main_target_hp_attacks__2': 2, 'ability_id__2': 16342.0, 'ability_name__2': 'Shining Obsidian++', 'char_name__2': 'alphinaud', 'non_target_hp_attacks__2': 1, 'hp_dmg_cap_up_perc__2': 0, 'game_version__3': 'GL', 'attribute_list__3': \"['Magic']\", 'main_target_hp_attacks__3': 1, 'ability_id__3': 8280.0, 'ability_name__3': 'Shining Obsidian+', 'char_name__3': 'alphinaud', 'non_target_hp_attacks__3': 1, 'hp_dmg_cap_up_perc__3': 0, 'game_version__4': 'GL', 'attribute_list__4': \"['Heals', 'Instant']\", 'main_target_hp_attacks__4': 0, 'ability_id__4': 16337.0, 'ability_name__4': 'Summon Moonstone', 'char_name__4': 'alphinaud', 'non_target_hp_attacks__4': 0, 'hp_dmg_cap_up_perc__4': 0, 'game_version__5': 'GL', 'attribute_list__5': \"['Instant', 'FollowUp']\", 'main_target_hp_attacks__5': 0, 'ability_id__5': 4218.0, 'ability_name__5': 'BRV granted from Moonstone', 'char_name__5': 'alphinaud', 'non_target_hp_attacks__5': 0, 'hp_dmg_cap_up_perc__5': 0, 'game_version__6': 'GL', 'attribute_list__6': \"['Heals', 'Instant', 'FollowUp']\" ... 7900 parameters truncated ... 'non_target_hp_attacks__993': 0, 'hp_dmg_cap_up_perc__993': 20, 'game_version__994': 'GL', 'attribute_list__994': \"['Melee', 'FollowUp']\", 'main_target_hp_attacks__994': 3, 'ability_id__994': 16155.0, 'ability_name__994': 'Shout Follow Up', 'char_name__994': 'ramza', 'non_target_hp_attacks__994': 0, 'hp_dmg_cap_up_perc__994': 20, 'game_version__995': 'GL', 'attribute_list__995': \"['Heals']\", 'main_target_hp_attacks__995': 0, 'ability_id__995': 10897.0, 'ability_name__995': 'Galvanize', 'char_name__995': 'ramza', 'non_target_hp_attacks__995': 0, 'hp_dmg_cap_up_perc__995': 0, 'game_version__996': 'GL', 'attribute_list__996': \"['Instant', 'NoSummon', 'NoEX']\", 'main_target_hp_attacks__996': 0, 'ability_id__996': 16168.0, 'ability_name__996': 'Attack Up', 'char_name__996': 'ramza', 'non_target_hp_attacks__996': 0, 'hp_dmg_cap_up_perc__996': 0, 'game_version__997': 'GL', 'attribute_list__997': \"['Melee']\", 'main_target_hp_attacks__997': 6, 'ability_id__997': 16162.0, 'ability_name__997': 'Enervate+', 'char_name__997': 'ramza', 'non_target_hp_attacks__997': 1, 'hp_dmg_cap_up_perc__997': 10, 'game_version__998': 'GL', 'attribute_list__998': \"['Melee']\", 'main_target_hp_attacks__998': 6, 'ability_id__998': 16163.0, 'ability_name__998': 'Enervate++', 'char_name__998': 'ramza', 'non_target_hp_attacks__998': 1, 'hp_dmg_cap_up_perc__998': 10, 'game_version__999': 'GL', 'attribute_list__999': \"['Melee']\", 'main_target_hp_attacks__999': 6, 'ability_id__999': 16164.0, 'ability_name__999': 'Enervate+++', 'char_name__999': 'ramza', 'non_target_hp_attacks__999': 1, 'hp_dmg_cap_up_perc__999': 10}\n",
      "2023-08-20 09:56:54,951 INFO sqlalchemy.engine.Engine INSERT INTO raw_abilities (char_name, ability_name, ability_id, main_target_hp_attacks, non_target_hp_attacks, hp_dmg_cap_up_perc, attribute_list, game_version) VALUES (%(char_name__0)s, %(ability_name__0)s, %(ability_id__0)s, %(main_target_hp_attack ... 206936 characters truncated ... rget_hp_attacks__999)s, %(hp_dmg_cap_up_perc__999)s, %(attribute_list__999)s, %(game_version__999)s)\n",
      "2023-08-20 09:56:54,952 INFO sqlalchemy.engine.Engine [insertmanyvalues 3/4 (unordered)] {'game_version__0': 'GL', 'attribute_list__0': \"['Group', 'Melee', 'KnockBack', 'NoFree']\", 'main_target_hp_attacks__0': 5, 'ability_id__0': 16165.0, 'ability_name__0': 'Icebrand – Storming Winter', 'char_name__0': 'ramza', 'non_target_hp_attacks__0': 5, 'hp_dmg_cap_up_perc__0': 15, 'game_version__1': 'GL', 'attribute_list__1': \"['Group', 'Melee']\", 'main_target_hp_attacks__1': 2, 'ability_id__1': 16167.0, 'ability_name__1': 'Ultima', 'char_name__1': 'ramza', 'non_target_hp_attacks__1': 2, 'hp_dmg_cap_up_perc__1': 350, 'game_version__2': 'GL', 'attribute_list__2': \"['Heals', 'Instant', 'NoEX', 'NoFree']\", 'main_target_hp_attacks__2': 0, 'ability_id__2': 10359.0, 'ability_name__2': 'Enhanced Galvanize (C)', 'char_name__2': 'ramza', 'non_target_hp_attacks__2': 0, 'hp_dmg_cap_up_perc__2': 0, 'game_version__3': 'GL', 'attribute_list__3': \"['Group', 'Melee', 'Instant', 'KnockBack', 'NoEX', 'NoFree']\", 'main_target_hp_attacks__3': 2, 'ability_id__3': 10707.0, 'ability_name__3': 'Enhanced Icebrand – Storming Winter (C)', 'char_name__3': 'ramza', 'non_target_hp_attacks__3': 2, 'hp_dmg_cap_up_perc__3': 0, 'game_version__4': 'GL', 'attribute_list__4': \"['Group', 'Melee']\", 'main_target_hp_attacks__4': 0, 'ability_id__4': 12576.0, 'ability_name__4': 'BRV Attack++', 'char_name__4': 'faris', 'non_target_hp_attacks__4': 0, 'hp_dmg_cap_up_perc__4': 0, 'game_version__5': 'GL', 'attribute_list__5': \"['Melee']\", 'main_target_hp_attacks__5': 0, 'ability_id__5': 5443.0, 'ability_name__5': 'BRV Attack+', 'char_name__5': 'faris', 'non_target_hp_attacks__5': 0, 'hp_dmg_cap_up_perc__5': 0, 'game_version__6': 'GL', 'attribute_list__6': \"['Melee']\" ... 7900 parameters truncated ... 'non_target_hp_attacks__993': 0, 'hp_dmg_cap_up_perc__993': 0, 'game_version__994': 'JP', 'attribute_list__994': \"['Group', 'Magic', 'Instant', 'FollowUp']\", 'main_target_hp_attacks__994': 1, 'ability_id__994': 13761.0, 'ability_name__994': 'Enhanced Sketch Summon (C) Follow Up', 'char_name__994': 'relm', 'non_target_hp_attacks__994': 1, 'hp_dmg_cap_up_perc__994': 0, 'game_version__995': 'JP', 'attribute_list__995': \"['Group', 'Magic', 'Instant', 'NoEX', 'NoFree']\", 'main_target_hp_attacks__995': 4, 'ability_id__995': 16944.0, 'ability_name__995': 'Enhanced Ulty Sketch (C)', 'char_name__995': 'relm', 'non_target_hp_attacks__995': 4, 'hp_dmg_cap_up_perc__995': 0, 'game_version__996': 'JP', 'attribute_list__996': \"['Ranged']\", 'main_target_hp_attacks__996': 0, 'ability_id__996': 4118.0, 'ability_name__996': 'BRV Attack+', 'char_name__996': 'laguna', 'non_target_hp_attacks__996': 0, 'hp_dmg_cap_up_perc__996': 0, 'game_version__997': 'JP', 'attribute_list__997': \"['Ranged']\", 'main_target_hp_attacks__997': 0, 'ability_id__997': 9804.0, 'ability_name__997': 'BRV Attack++', 'char_name__997': 'laguna', 'non_target_hp_attacks__997': 0, 'hp_dmg_cap_up_perc__997': 0, 'game_version__998': 'JP', 'attribute_list__998': \"['Ranged']\", 'main_target_hp_attacks__998': 1, 'ability_id__998': 4268.0, 'ability_name__998': 'HP Attack+', 'char_name__998': 'laguna', 'non_target_hp_attacks__998': 0, 'hp_dmg_cap_up_perc__998': 0, 'game_version__999': 'JP', 'attribute_list__999': \"['Group', 'Ranged']\", 'main_target_hp_attacks__999': 1, 'ability_id__999': 9805.0, 'ability_name__999': 'HP Attack++', 'char_name__999': 'laguna', 'non_target_hp_attacks__999': 0, 'hp_dmg_cap_up_perc__999': 0}\n",
      "2023-08-20 09:56:54,985 INFO sqlalchemy.engine.Engine INSERT INTO raw_abilities (char_name, ability_name, ability_id, main_target_hp_attacks, non_target_hp_attacks, hp_dmg_cap_up_perc, attribute_list, game_version) VALUES (%(char_name__0)s, %(ability_name__0)s, %(ability_id__0)s, %(main_target_hp_attack ... 55720 characters truncated ... rget_hp_attacks__272)s, %(hp_dmg_cap_up_perc__272)s, %(attribute_list__272)s, %(game_version__272)s)\n",
      "2023-08-20 09:56:54,986 INFO sqlalchemy.engine.Engine [insertmanyvalues 4/4 (unordered)] {'game_version__0': 'JP', 'attribute_list__0': \"['Group', 'Ranged']\", 'main_target_hp_attacks__0': 3, 'ability_id__0': 18961.0, 'ability_name__0': 'Grenade', 'char_name__0': 'laguna', 'non_target_hp_attacks__0': 3, 'hp_dmg_cap_up_perc__0': 20, 'game_version__1': 'JP', 'attribute_list__1': \"['Group', 'Ranged']\", 'main_target_hp_attacks__1': 2, 'ability_id__1': 18962.0, 'ability_name__1': 'Shotgun', 'char_name__1': 'laguna', 'non_target_hp_attacks__1': 1, 'hp_dmg_cap_up_perc__1': 20, 'game_version__2': 'JP', 'attribute_list__2': \"['Group', 'Ranged']\", 'main_target_hp_attacks__2': 3, 'ability_id__2': 18963.0, 'ability_name__2': 'Shotgun+', 'char_name__2': 'laguna', 'non_target_hp_attacks__2': 1, 'hp_dmg_cap_up_perc__2': 20, 'game_version__3': 'JP', 'attribute_list__3': \"['Instant', 'NoSummon', 'NoEX']\", 'main_target_hp_attacks__3': 0, 'ability_id__3': 16119.0, 'ability_name__3': 'Debuff Damage Up', 'char_name__3': 'laguna', 'non_target_hp_attacks__3': 0, 'hp_dmg_cap_up_perc__3': 0, 'game_version__4': 'JP', 'attribute_list__4': \"['Group', 'Ranged']\", 'main_target_hp_attacks__4': 6, 'ability_id__4': 20875.0, 'ability_name__4': 'Ragnarok Buster', 'char_name__4': 'laguna', 'non_target_hp_attacks__4': 1, 'hp_dmg_cap_up_perc__4': 10, 'game_version__5': 'JP', 'attribute_list__5': \"['Group', 'Ranged', 'NoFree']\", 'main_target_hp_attacks__5': 6, 'ability_id__5': 20876.0, 'ability_name__5': 'Ragnarok Blade', 'char_name__5': 'laguna', 'non_target_hp_attacks__5': 6, 'hp_dmg_cap_up_perc__5': 15, 'game_version__6': 'JP', 'attribute_list__6': \"['Group', 'Ranged', 'FollowUp']\" ... 2084 parameters truncated ... 'non_target_hp_attacks__266': 4, 'hp_dmg_cap_up_perc__266': 10, 'game_version__267': 'JP', 'attribute_list__267': \"['Group', 'Magic', 'NoFree']\", 'main_target_hp_attacks__267': 4, 'ability_id__267': 20722.0, 'ability_name__267': 'Grand Delta', 'char_name__267': 'strago', 'non_target_hp_attacks__267': 4, 'hp_dmg_cap_up_perc__267': 15, 'game_version__268': 'JP', 'attribute_list__268': \"['Group', 'Magic', 'FollowUp']\", 'main_target_hp_attacks__268': 4, 'ability_id__268': 20723.0, 'ability_name__268': 'Grand Delta Follow Up', 'char_name__268': 'strago', 'non_target_hp_attacks__268': 4, 'hp_dmg_cap_up_perc__268': 15, 'game_version__269': 'JP', 'attribute_list__269': \"['Group', 'Magic']\", 'main_target_hp_attacks__269': 2, 'ability_id__269': 20726.0, 'ability_name__269': 'Mastery of Blue Magic', 'char_name__269': 'strago', 'non_target_hp_attacks__269': 2, 'hp_dmg_cap_up_perc__269': 350, 'game_version__270': 'JP', 'attribute_list__270': \"['Group', 'Magic', 'NoFree']\", 'main_target_hp_attacks__270': 4, 'ability_id__270': 20727.0, 'ability_name__270': 'Burning 1,000 Needles', 'char_name__270': 'strago', 'non_target_hp_attacks__270': 4, 'hp_dmg_cap_up_perc__270': 250, 'game_version__271': 'JP', 'attribute_list__271': \"['Group', 'Magic', 'Instant', 'NoEX', 'NoFree']\", 'main_target_hp_attacks__271': 1, 'ability_id__271': 12808.0, 'ability_name__271': 'Enhanced BRV 2 Death (C)', 'char_name__271': 'strago', 'non_target_hp_attacks__271': 1, 'hp_dmg_cap_up_perc__271': 0, 'game_version__272': 'JP', 'attribute_list__272': \"['Group', 'Magic', 'Instant', 'NoEX', 'NoFree']\", 'main_target_hp_attacks__272': 1, 'ability_id__272': 12810.0, 'ability_name__272': 'Enhanced Grand Delta (C)', 'char_name__272': 'strago', 'non_target_hp_attacks__272': 1, 'hp_dmg_cap_up_perc__272': 0}\n",
      "2023-08-20 09:56:54,993 INFO sqlalchemy.engine.Engine COMMIT\n"
     ]
    },
    {
     "data": {
      "text/plain": [
       "273"
      ]
     },
     "execution_count": 23,
     "metadata": {},
     "output_type": "execute_result"
    }
   ],
   "source": [
    "raw_abilities.to_sql('raw_abilities', con=engine, if_exists='replace', index=False)"
   ]
  },
  {
   "cell_type": "code",
   "execution_count": 24,
   "id": "5e88adc0-18ed-41c3-968c-c40b2f0d0914",
   "metadata": {},
   "outputs": [
    {
     "name": "stdout",
     "output_type": "stream",
     "text": [
      "2023-08-20 10:06:07,545 INFO sqlalchemy.engine.Engine BEGIN (implicit)\n",
      "2023-08-20 10:06:07,573 INFO sqlalchemy.engine.Engine SELECT pg_catalog.pg_class.relname \n",
      "FROM pg_catalog.pg_class JOIN pg_catalog.pg_namespace ON pg_catalog.pg_namespace.oid = pg_catalog.pg_class.relnamespace \n",
      "WHERE pg_catalog.pg_class.relname = %(table_name)s AND pg_catalog.pg_class.relkind = ANY (ARRAY[%(param_1)s, %(param_2)s, %(param_3)s, %(param_4)s, %(param_5)s]) AND pg_catalog.pg_table_is_visible(pg_catalog.pg_class.oid) AND pg_catalog.pg_namespace.nspname != %(nspname_1)s\n",
      "2023-08-20 10:06:07,574 INFO sqlalchemy.engine.Engine [cached since 553.3s ago] {'table_name': 'test_table', 'param_1': 'r', 'param_2': 'p', 'param_3': 'f', 'param_4': 'v', 'param_5': 'm', 'nspname_1': 'pg_catalog'}\n",
      "2023-08-20 10:06:07,580 INFO sqlalchemy.engine.Engine \n",
      "CREATE TABLE test_table (\n",
      "\tchar_name TEXT, \n",
      "\tability_name TEXT, \n",
      "\tability_id FLOAT(53), \n",
      "\tmain_target_hp_attacks BIGINT, \n",
      "\tnon_target_hp_attacks BIGINT, \n",
      "\thp_dmg_cap_up_perc BIGINT, \n",
      "\tattribute_list TEXT, \n",
      "\tgame_version TEXT\n",
      ")\n",
      "\n",
      "\n",
      "2023-08-20 10:06:07,581 INFO sqlalchemy.engine.Engine [no key 0.00130s] {}\n",
      "2023-08-20 10:06:07,633 INFO sqlalchemy.engine.Engine INSERT INTO test_table (char_name, ability_name, ability_id, main_target_hp_attacks, non_target_hp_attacks, hp_dmg_cap_up_perc, attribute_list, game_version) VALUES (%(char_name__0)s, %(ability_name__0)s, %(ability_id__0)s, %(main_target_hp_attacks__ ... 206933 characters truncated ... rget_hp_attacks__999)s, %(hp_dmg_cap_up_perc__999)s, %(attribute_list__999)s, %(game_version__999)s)\n",
      "2023-08-20 10:06:07,634 INFO sqlalchemy.engine.Engine [generated in 0.01377s (insertmanyvalues) 1/4 (unordered)] {'game_version__0': 'GL', 'attribute_list__0': \"['Magic']\", 'main_target_hp_attacks__0': 0, 'ability_id__0': 20190.0, 'ability_name__0': 'BRV Attack++', 'char_name__0': 'astos', 'non_target_hp_attacks__0': 0, 'hp_dmg_cap_up_perc__0': 0, 'game_version__1': 'GL', 'attribute_list__1': \"['Magic']\", 'main_target_hp_attacks__1': 0, 'ability_id__1': 20181.0, 'ability_name__1': 'BRV Attack+', 'char_name__1': 'astos', 'non_target_hp_attacks__1': 0, 'hp_dmg_cap_up_perc__1': 0, 'game_version__2': 'GL', 'attribute_list__2': \"['Magic']\", 'main_target_hp_attacks__2': 1, 'ability_id__2': 20191.0, 'ability_name__2': 'HP Attack++', 'char_name__2': 'astos', 'non_target_hp_attacks__2': 0, 'hp_dmg_cap_up_perc__2': 0, 'game_version__3': 'GL', 'attribute_list__3': \"['Group', 'Magic', 'Instant']\", 'main_target_hp_attacks__3': 1, 'ability_id__3': 20189.0, 'ability_name__3': 'Cremation', 'char_name__3': 'astos', 'non_target_hp_attacks__3': 1, 'hp_dmg_cap_up_perc__3': 10, 'game_version__4': 'GL', 'attribute_list__4': \"['Magic']\", 'main_target_hp_attacks__4': 1, 'ability_id__4': 20182.0, 'ability_name__4': 'HP Attack+', 'char_name__4': 'astos', 'non_target_hp_attacks__4': 0, 'hp_dmg_cap_up_perc__4': 0, 'game_version__5': 'GL', 'attribute_list__5': \"['Magic']\", 'main_target_hp_attacks__5': 10, 'ability_id__5': 20176.0, 'ability_name__5': 'Dark Thrust', 'char_name__5': 'astos', 'non_target_hp_attacks__5': 0, 'hp_dmg_cap_up_perc__5': 20, 'game_version__6': 'GL', 'attribute_list__6': \"['Group', 'Magic']\" ... 7900 parameters truncated ... 'non_target_hp_attacks__993': 1, 'hp_dmg_cap_up_perc__993': 400, 'game_version__994': 'GL', 'attribute_list__994': \"['Group', 'Melee', 'Ice', 'Wind', 'Instant', 'NoEX', 'NoFree']\", 'main_target_hp_attacks__994': 1, 'ability_id__994': 12717.0, 'ability_name__994': 'Enhanced Tempeststrike (C)', 'char_name__994': 'noel', 'non_target_hp_attacks__994': 1, 'hp_dmg_cap_up_perc__994': 0, 'game_version__995': 'GL', 'attribute_list__995': \"['Group', 'Melee', 'Instant', 'NoEX', 'NoFree']\", 'main_target_hp_attacks__995': 1, 'ability_id__995': 12719.0, 'ability_name__995': 'Enhanced Big Bang (C)', 'char_name__995': 'noel', 'non_target_hp_attacks__995': 1, 'hp_dmg_cap_up_perc__995': 0, 'game_version__996': 'GL', 'attribute_list__996': \"['Magic']\", 'main_target_hp_attacks__996': 0, 'ability_id__996': 4646.0, 'ability_name__996': 'Sic', 'char_name__996': 'alphinaud', 'non_target_hp_attacks__996': 0, 'hp_dmg_cap_up_perc__996': 0, 'game_version__997': 'GL', 'attribute_list__997': \"['Group', 'Magic']\", 'main_target_hp_attacks__997': 1, 'ability_id__997': 8274.0, 'ability_name__997': 'Sic (Obsidian)', 'char_name__997': 'alphinaud', 'non_target_hp_attacks__997': 1, 'hp_dmg_cap_up_perc__997': 0, 'game_version__998': 'GL', 'attribute_list__998': \"['Group', 'Magic']\", 'main_target_hp_attacks__998': 2, 'ability_id__998': 16341.0, 'ability_name__998': 'Sic (Obsidian)++', 'char_name__998': 'alphinaud', 'non_target_hp_attacks__998': 2, 'hp_dmg_cap_up_perc__998': 0, 'game_version__999': 'GL', 'attribute_list__999': \"['Group', 'Magic']\", 'main_target_hp_attacks__999': 1, 'ability_id__999': 8279.0, 'ability_name__999': 'Sic (Obsidian)+', 'char_name__999': 'alphinaud', 'non_target_hp_attacks__999': 1, 'hp_dmg_cap_up_perc__999': 0}\n",
      "2023-08-20 10:06:07,664 INFO sqlalchemy.engine.Engine INSERT INTO test_table (char_name, ability_name, ability_id, main_target_hp_attacks, non_target_hp_attacks, hp_dmg_cap_up_perc, attribute_list, game_version) VALUES (%(char_name__0)s, %(ability_name__0)s, %(ability_id__0)s, %(main_target_hp_attacks__ ... 206933 characters truncated ... rget_hp_attacks__999)s, %(hp_dmg_cap_up_perc__999)s, %(attribute_list__999)s, %(game_version__999)s)\n",
      "2023-08-20 10:06:07,665 INFO sqlalchemy.engine.Engine [insertmanyvalues 2/4 (unordered)] {'game_version__0': 'GL', 'attribute_list__0': \"['Magic']\", 'main_target_hp_attacks__0': 1, 'ability_id__0': 4650.0, 'ability_name__0': 'Shining Moonstone', 'char_name__0': 'alphinaud', 'non_target_hp_attacks__0': 0, 'hp_dmg_cap_up_perc__0': 0, 'game_version__1': 'GL', 'attribute_list__1': \"['Magic']\", 'main_target_hp_attacks__1': 1, 'ability_id__1': 8275.0, 'ability_name__1': 'Shining Obsidian', 'char_name__1': 'alphinaud', 'non_target_hp_attacks__1': 1, 'hp_dmg_cap_up_perc__1': 0, 'game_version__2': 'GL', 'attribute_list__2': \"['Magic']\", 'main_target_hp_attacks__2': 2, 'ability_id__2': 16342.0, 'ability_name__2': 'Shining Obsidian++', 'char_name__2': 'alphinaud', 'non_target_hp_attacks__2': 1, 'hp_dmg_cap_up_perc__2': 0, 'game_version__3': 'GL', 'attribute_list__3': \"['Magic']\", 'main_target_hp_attacks__3': 1, 'ability_id__3': 8280.0, 'ability_name__3': 'Shining Obsidian+', 'char_name__3': 'alphinaud', 'non_target_hp_attacks__3': 1, 'hp_dmg_cap_up_perc__3': 0, 'game_version__4': 'GL', 'attribute_list__4': \"['Heals', 'Instant']\", 'main_target_hp_attacks__4': 0, 'ability_id__4': 16337.0, 'ability_name__4': 'Summon Moonstone', 'char_name__4': 'alphinaud', 'non_target_hp_attacks__4': 0, 'hp_dmg_cap_up_perc__4': 0, 'game_version__5': 'GL', 'attribute_list__5': \"['Instant', 'FollowUp']\", 'main_target_hp_attacks__5': 0, 'ability_id__5': 4218.0, 'ability_name__5': 'BRV granted from Moonstone', 'char_name__5': 'alphinaud', 'non_target_hp_attacks__5': 0, 'hp_dmg_cap_up_perc__5': 0, 'game_version__6': 'GL', 'attribute_list__6': \"['Heals', 'Instant', 'FollowUp']\" ... 7900 parameters truncated ... 'non_target_hp_attacks__993': 0, 'hp_dmg_cap_up_perc__993': 20, 'game_version__994': 'GL', 'attribute_list__994': \"['Melee', 'FollowUp']\", 'main_target_hp_attacks__994': 3, 'ability_id__994': 16155.0, 'ability_name__994': 'Shout Follow Up', 'char_name__994': 'ramza', 'non_target_hp_attacks__994': 0, 'hp_dmg_cap_up_perc__994': 20, 'game_version__995': 'GL', 'attribute_list__995': \"['Heals']\", 'main_target_hp_attacks__995': 0, 'ability_id__995': 10897.0, 'ability_name__995': 'Galvanize', 'char_name__995': 'ramza', 'non_target_hp_attacks__995': 0, 'hp_dmg_cap_up_perc__995': 0, 'game_version__996': 'GL', 'attribute_list__996': \"['Instant', 'NoSummon', 'NoEX']\", 'main_target_hp_attacks__996': 0, 'ability_id__996': 16168.0, 'ability_name__996': 'Attack Up', 'char_name__996': 'ramza', 'non_target_hp_attacks__996': 0, 'hp_dmg_cap_up_perc__996': 0, 'game_version__997': 'GL', 'attribute_list__997': \"['Melee']\", 'main_target_hp_attacks__997': 6, 'ability_id__997': 16162.0, 'ability_name__997': 'Enervate+', 'char_name__997': 'ramza', 'non_target_hp_attacks__997': 1, 'hp_dmg_cap_up_perc__997': 10, 'game_version__998': 'GL', 'attribute_list__998': \"['Melee']\", 'main_target_hp_attacks__998': 6, 'ability_id__998': 16163.0, 'ability_name__998': 'Enervate++', 'char_name__998': 'ramza', 'non_target_hp_attacks__998': 1, 'hp_dmg_cap_up_perc__998': 10, 'game_version__999': 'GL', 'attribute_list__999': \"['Melee']\", 'main_target_hp_attacks__999': 6, 'ability_id__999': 16164.0, 'ability_name__999': 'Enervate+++', 'char_name__999': 'ramza', 'non_target_hp_attacks__999': 1, 'hp_dmg_cap_up_perc__999': 10}\n",
      "2023-08-20 10:06:07,694 INFO sqlalchemy.engine.Engine INSERT INTO test_table (char_name, ability_name, ability_id, main_target_hp_attacks, non_target_hp_attacks, hp_dmg_cap_up_perc, attribute_list, game_version) VALUES (%(char_name__0)s, %(ability_name__0)s, %(ability_id__0)s, %(main_target_hp_attacks__ ... 206933 characters truncated ... rget_hp_attacks__999)s, %(hp_dmg_cap_up_perc__999)s, %(attribute_list__999)s, %(game_version__999)s)\n",
      "2023-08-20 10:06:07,695 INFO sqlalchemy.engine.Engine [insertmanyvalues 3/4 (unordered)] {'game_version__0': 'GL', 'attribute_list__0': \"['Group', 'Melee', 'KnockBack', 'NoFree']\", 'main_target_hp_attacks__0': 5, 'ability_id__0': 16165.0, 'ability_name__0': 'Icebrand – Storming Winter', 'char_name__0': 'ramza', 'non_target_hp_attacks__0': 5, 'hp_dmg_cap_up_perc__0': 15, 'game_version__1': 'GL', 'attribute_list__1': \"['Group', 'Melee']\", 'main_target_hp_attacks__1': 2, 'ability_id__1': 16167.0, 'ability_name__1': 'Ultima', 'char_name__1': 'ramza', 'non_target_hp_attacks__1': 2, 'hp_dmg_cap_up_perc__1': 350, 'game_version__2': 'GL', 'attribute_list__2': \"['Heals', 'Instant', 'NoEX', 'NoFree']\", 'main_target_hp_attacks__2': 0, 'ability_id__2': 10359.0, 'ability_name__2': 'Enhanced Galvanize (C)', 'char_name__2': 'ramza', 'non_target_hp_attacks__2': 0, 'hp_dmg_cap_up_perc__2': 0, 'game_version__3': 'GL', 'attribute_list__3': \"['Group', 'Melee', 'Instant', 'KnockBack', 'NoEX', 'NoFree']\", 'main_target_hp_attacks__3': 2, 'ability_id__3': 10707.0, 'ability_name__3': 'Enhanced Icebrand – Storming Winter (C)', 'char_name__3': 'ramza', 'non_target_hp_attacks__3': 2, 'hp_dmg_cap_up_perc__3': 0, 'game_version__4': 'GL', 'attribute_list__4': \"['Group', 'Melee']\", 'main_target_hp_attacks__4': 0, 'ability_id__4': 12576.0, 'ability_name__4': 'BRV Attack++', 'char_name__4': 'faris', 'non_target_hp_attacks__4': 0, 'hp_dmg_cap_up_perc__4': 0, 'game_version__5': 'GL', 'attribute_list__5': \"['Melee']\", 'main_target_hp_attacks__5': 0, 'ability_id__5': 5443.0, 'ability_name__5': 'BRV Attack+', 'char_name__5': 'faris', 'non_target_hp_attacks__5': 0, 'hp_dmg_cap_up_perc__5': 0, 'game_version__6': 'GL', 'attribute_list__6': \"['Melee']\" ... 7900 parameters truncated ... 'non_target_hp_attacks__993': 0, 'hp_dmg_cap_up_perc__993': 0, 'game_version__994': 'JP', 'attribute_list__994': \"['Group', 'Magic', 'Instant', 'FollowUp']\", 'main_target_hp_attacks__994': 1, 'ability_id__994': 13761.0, 'ability_name__994': 'Enhanced Sketch Summon (C) Follow Up', 'char_name__994': 'relm', 'non_target_hp_attacks__994': 1, 'hp_dmg_cap_up_perc__994': 0, 'game_version__995': 'JP', 'attribute_list__995': \"['Group', 'Magic', 'Instant', 'NoEX', 'NoFree']\", 'main_target_hp_attacks__995': 4, 'ability_id__995': 16944.0, 'ability_name__995': 'Enhanced Ulty Sketch (C)', 'char_name__995': 'relm', 'non_target_hp_attacks__995': 4, 'hp_dmg_cap_up_perc__995': 0, 'game_version__996': 'JP', 'attribute_list__996': \"['Ranged']\", 'main_target_hp_attacks__996': 0, 'ability_id__996': 4118.0, 'ability_name__996': 'BRV Attack+', 'char_name__996': 'laguna', 'non_target_hp_attacks__996': 0, 'hp_dmg_cap_up_perc__996': 0, 'game_version__997': 'JP', 'attribute_list__997': \"['Ranged']\", 'main_target_hp_attacks__997': 0, 'ability_id__997': 9804.0, 'ability_name__997': 'BRV Attack++', 'char_name__997': 'laguna', 'non_target_hp_attacks__997': 0, 'hp_dmg_cap_up_perc__997': 0, 'game_version__998': 'JP', 'attribute_list__998': \"['Ranged']\", 'main_target_hp_attacks__998': 1, 'ability_id__998': 4268.0, 'ability_name__998': 'HP Attack+', 'char_name__998': 'laguna', 'non_target_hp_attacks__998': 0, 'hp_dmg_cap_up_perc__998': 0, 'game_version__999': 'JP', 'attribute_list__999': \"['Group', 'Ranged']\", 'main_target_hp_attacks__999': 1, 'ability_id__999': 9805.0, 'ability_name__999': 'HP Attack++', 'char_name__999': 'laguna', 'non_target_hp_attacks__999': 0, 'hp_dmg_cap_up_perc__999': 0}\n",
      "2023-08-20 10:06:07,721 INFO sqlalchemy.engine.Engine INSERT INTO test_table (char_name, ability_name, ability_id, main_target_hp_attacks, non_target_hp_attacks, hp_dmg_cap_up_perc, attribute_list, game_version) VALUES (%(char_name__0)s, %(ability_name__0)s, %(ability_id__0)s, %(main_target_hp_attacks__ ... 55717 characters truncated ... rget_hp_attacks__272)s, %(hp_dmg_cap_up_perc__272)s, %(attribute_list__272)s, %(game_version__272)s)\n",
      "2023-08-20 10:06:07,722 INFO sqlalchemy.engine.Engine [insertmanyvalues 4/4 (unordered)] {'game_version__0': 'JP', 'attribute_list__0': \"['Group', 'Ranged']\", 'main_target_hp_attacks__0': 3, 'ability_id__0': 18961.0, 'ability_name__0': 'Grenade', 'char_name__0': 'laguna', 'non_target_hp_attacks__0': 3, 'hp_dmg_cap_up_perc__0': 20, 'game_version__1': 'JP', 'attribute_list__1': \"['Group', 'Ranged']\", 'main_target_hp_attacks__1': 2, 'ability_id__1': 18962.0, 'ability_name__1': 'Shotgun', 'char_name__1': 'laguna', 'non_target_hp_attacks__1': 1, 'hp_dmg_cap_up_perc__1': 20, 'game_version__2': 'JP', 'attribute_list__2': \"['Group', 'Ranged']\", 'main_target_hp_attacks__2': 3, 'ability_id__2': 18963.0, 'ability_name__2': 'Shotgun+', 'char_name__2': 'laguna', 'non_target_hp_attacks__2': 1, 'hp_dmg_cap_up_perc__2': 20, 'game_version__3': 'JP', 'attribute_list__3': \"['Instant', 'NoSummon', 'NoEX']\", 'main_target_hp_attacks__3': 0, 'ability_id__3': 16119.0, 'ability_name__3': 'Debuff Damage Up', 'char_name__3': 'laguna', 'non_target_hp_attacks__3': 0, 'hp_dmg_cap_up_perc__3': 0, 'game_version__4': 'JP', 'attribute_list__4': \"['Group', 'Ranged']\", 'main_target_hp_attacks__4': 6, 'ability_id__4': 20875.0, 'ability_name__4': 'Ragnarok Buster', 'char_name__4': 'laguna', 'non_target_hp_attacks__4': 1, 'hp_dmg_cap_up_perc__4': 10, 'game_version__5': 'JP', 'attribute_list__5': \"['Group', 'Ranged', 'NoFree']\", 'main_target_hp_attacks__5': 6, 'ability_id__5': 20876.0, 'ability_name__5': 'Ragnarok Blade', 'char_name__5': 'laguna', 'non_target_hp_attacks__5': 6, 'hp_dmg_cap_up_perc__5': 15, 'game_version__6': 'JP', 'attribute_list__6': \"['Group', 'Ranged', 'FollowUp']\" ... 2084 parameters truncated ... 'non_target_hp_attacks__266': 4, 'hp_dmg_cap_up_perc__266': 10, 'game_version__267': 'JP', 'attribute_list__267': \"['Group', 'Magic', 'NoFree']\", 'main_target_hp_attacks__267': 4, 'ability_id__267': 20722.0, 'ability_name__267': 'Grand Delta', 'char_name__267': 'strago', 'non_target_hp_attacks__267': 4, 'hp_dmg_cap_up_perc__267': 15, 'game_version__268': 'JP', 'attribute_list__268': \"['Group', 'Magic', 'FollowUp']\", 'main_target_hp_attacks__268': 4, 'ability_id__268': 20723.0, 'ability_name__268': 'Grand Delta Follow Up', 'char_name__268': 'strago', 'non_target_hp_attacks__268': 4, 'hp_dmg_cap_up_perc__268': 15, 'game_version__269': 'JP', 'attribute_list__269': \"['Group', 'Magic']\", 'main_target_hp_attacks__269': 2, 'ability_id__269': 20726.0, 'ability_name__269': 'Mastery of Blue Magic', 'char_name__269': 'strago', 'non_target_hp_attacks__269': 2, 'hp_dmg_cap_up_perc__269': 350, 'game_version__270': 'JP', 'attribute_list__270': \"['Group', 'Magic', 'NoFree']\", 'main_target_hp_attacks__270': 4, 'ability_id__270': 20727.0, 'ability_name__270': 'Burning 1,000 Needles', 'char_name__270': 'strago', 'non_target_hp_attacks__270': 4, 'hp_dmg_cap_up_perc__270': 250, 'game_version__271': 'JP', 'attribute_list__271': \"['Group', 'Magic', 'Instant', 'NoEX', 'NoFree']\", 'main_target_hp_attacks__271': 1, 'ability_id__271': 12808.0, 'ability_name__271': 'Enhanced BRV 2 Death (C)', 'char_name__271': 'strago', 'non_target_hp_attacks__271': 1, 'hp_dmg_cap_up_perc__271': 0, 'game_version__272': 'JP', 'attribute_list__272': \"['Group', 'Magic', 'Instant', 'NoEX', 'NoFree']\", 'main_target_hp_attacks__272': 1, 'ability_id__272': 12810.0, 'ability_name__272': 'Enhanced Grand Delta (C)', 'char_name__272': 'strago', 'non_target_hp_attacks__272': 1, 'hp_dmg_cap_up_perc__272': 0}\n",
      "2023-08-20 10:06:07,730 INFO sqlalchemy.engine.Engine COMMIT\n"
     ]
    },
    {
     "data": {
      "text/plain": [
       "273"
      ]
     },
     "execution_count": 24,
     "metadata": {},
     "output_type": "execute_result"
    }
   ],
   "source": [
    "raw_abilities.to_sql('test_table', con=engine, if_exists='replace', index=False)"
   ]
  },
  {
   "cell_type": "code",
   "execution_count": 3,
   "id": "fc0c603a-3861-4306-b8c9-7c5cacdbbc8a",
   "metadata": {},
   "outputs": [],
   "source": [
    "conn = psycopg2.connect(\n",
    "    dbname=config['pgdb_data'],\n",
    "    user=config['pgdb_user'],\n",
    "    password=config['pgdb_pass'],\n",
    "    host=config['pgdb_host']\n",
    ")\n",
    "\n",
    "cursor = conn.cursor()"
   ]
  },
  {
   "cell_type": "code",
   "execution_count": 4,
   "id": "19e42139-e1bf-470e-8b3a-5575140a5df0",
   "metadata": {},
   "outputs": [],
   "source": [
    "cursor.execute(\n",
    "    \"\"\"\n",
    "    SELECT\n",
    "        *\n",
    "    FROM public.raw_abilities;\n",
    "    \"\"\"\n",
    ")\n",
    "\n",
    "results = cursor.fetchall()"
   ]
  },
  {
   "cell_type": "code",
   "execution_count": 5,
   "id": "cc7b8e3d-ede6-46e9-aed6-4a2145ad2b0f",
   "metadata": {},
   "outputs": [
    {
     "data": {
      "text/plain": [
       "[]"
      ]
     },
     "execution_count": 5,
     "metadata": {},
     "output_type": "execute_result"
    }
   ],
   "source": [
    "results"
   ]
  },
  {
   "cell_type": "code",
   "execution_count": 6,
   "id": "1991b202-a2e4-4605-bbc3-e20803bca25a",
   "metadata": {},
   "outputs": [],
   "source": [
    "cursor.close()\n",
    "conn.close()"
   ]
  },
  {
   "cell_type": "markdown",
   "id": "c8160d4b-195f-4c84-a6a9-2337da3abaae",
   "metadata": {},
   "source": [
    "# Running To Do\n",
    "- Add something to account for Lann & Reynn's difference HP Dmg Cap based on enemy count\n",
    "- Characters' High Armor shouldn't be parsed a second time when you check their JP rework. If they're already available in GL, their HA is their HA.\n",
    "- Enna Kros' abilities need to be a special consideration. Everything should be tripled for Bold Maneuver, Atomic Impact, and Astral Annihilation. This can be left alone for the ability_df, but in dashboarding, make sure to note this.\n",
    "- Add a `_data_pulled_at` column for each dataset.\n",
    "- Parse follow ups for JP versions of characters (manual...)\n",
    "- Check if the abilities that can exceed the MBRV Cap all have `*Can exceed MAX BRV Cap` in their descriptions.\n",
    "- Fix the incorrect information that you manually identified.\n",
    "\n",
    "# Ability DF Notes from Initial Run\n",
    "- The logs say that Lann & Reynn's BT don't have stacks. This could be intended from my code, but I can't remember.\n",
    "- BT effects for all of the \"spoiler alert\" characters are missing, even over in JP.\n",
    "- "
   ]
  },
  {
   "cell_type": "markdown",
   "id": "b53b4377-cb77-4876-b8f7-244dcbf5bb49",
   "metadata": {},
   "source": [
    "# Recoding that needs to happen for ability names"
   ]
  },
  {
   "cell_type": "code",
   "execution_count": 2,
   "id": "0252c083-66e9-4ad3-9343-c44be660b8ec",
   "metadata": {},
   "outputs": [],
   "source": [
    "renaming = {\n",
    "    'Å': 'ō',\n",
    "    'Ã±': 'ñ',\n",
    "    'ÃŸ': 'ß',\n",
    "    'Ã—': '×',\n",
    "    'ï½ž': '～',\n",
    "    'ï¼Ÿ': '? ',\n",
    "    'â€“': '--',\n",
    "    \"â˜†\": \"☆\"\n",
    "}"
   ]
  },
  {
   "cell_type": "code",
   "execution_count": 3,
   "id": "570a6341-6c3a-45d1-8f31-39ccfdd0a1ee",
   "metadata": {},
   "outputs": [
    {
     "name": "stderr",
     "output_type": "stream",
     "text": [
      "2023-08-13 19:58:39,966 - web_scraper.web_scraper - ====================================================\n",
      "2023-08-13 19:58:39,967 - web_scraper.web_scraper - Retrieved all main character links. Generating remaining links for each character.\n",
      "2023-08-13 19:58:39,968 - web_scraper.web_scraper - ====================================================\n",
      "2023-08-13 19:58:40,006 - web_scraper.web_scraper - self.character_dict_omnibus entry for ASTOS was successful\n",
      "2023-08-13 19:58:40,026 - web_scraper.web_scraper - self.character_dict_omnibus entry for IRIS was successful\n",
      "2023-08-13 19:58:40,048 - web_scraper.web_scraper - self.character_dict_omnibus entry for REKS was successful\n",
      "2023-08-13 19:58:40,087 - web_scraper.web_scraper - self.character_dict_omnibus entry for QUINA was successful\n",
      "2023-08-13 19:58:40,108 - web_scraper.web_scraper - self.character_dict_omnibus entry for RUBICANTE was successful\n",
      "2023-08-13 19:58:40,129 - web_scraper.web_scraper - self.character_dict_omnibus entry for NEON was successful\n",
      "2023-08-13 19:58:40,153 - web_scraper.web_scraper - self.character_dict_omnibus entry for JESSIE was successful\n",
      "2023-08-13 19:58:40,183 - web_scraper.web_scraper - self.character_dict_omnibus entry for FUSOYA was successful\n",
      "2023-08-13 19:58:40,203 - web_scraper.web_scraper - self.character_dict_omnibus entry for JACKGARLAND was successful\n",
      "2023-08-13 19:58:40,235 - web_scraper.web_scraper - self.character_dict_omnibus entry for DORGANN was successful\n",
      "2023-08-13 19:58:40,254 - web_scraper.web_scraper - self.character_dict_omnibus entry for MINWU was successful\n",
      "2023-08-13 19:58:40,273 - web_scraper.web_scraper - self.character_dict_omnibus entry for LUNAFREYA was successful\n",
      "2023-08-13 19:58:40,293 - web_scraper.web_scraper - self.character_dict_omnibus entry for BRASKA was successful\n",
      "2023-08-13 19:58:40,313 - web_scraper.web_scraper - self.character_dict_omnibus entry for SICE was successful\n",
      "2023-08-13 19:58:40,332 - web_scraper.web_scraper - self.character_dict_omnibus entry for CISSNEI was successful\n",
      "2023-08-13 19:58:40,352 - web_scraper.web_scraper - self.character_dict_omnibus entry for ENNAKROS was successful\n",
      "2023-08-13 19:58:40,371 - web_scraper.web_scraper - self.character_dict_omnibus entry for LEILA was successful\n",
      "2023-08-13 19:58:40,398 - web_scraper.web_scraper - self.character_dict_omnibus entry for LLYUD was successful\n",
      "2023-08-13 19:58:40,416 - web_scraper.web_scraper - self.character_dict_omnibus entry for URSULA was successful\n",
      "2023-08-13 19:58:40,435 - web_scraper.web_scraper - self.character_dict_omnibus entry for JEGRAN was successful\n",
      "2023-08-13 19:58:40,453 - web_scraper.web_scraper - self.character_dict_omnibus entry for SHELKE was successful\n",
      "2023-08-13 19:58:40,476 - web_scraper.web_scraper - self.character_dict_omnibus entry for CIDRAINES was successful\n",
      "2023-08-13 19:58:40,503 - web_scraper.web_scraper - self.character_dict_omnibus entry for QUEEN was successful\n",
      "2023-08-13 19:58:40,522 - web_scraper.web_scraper - self.character_dict_omnibus entry for COR was successful\n",
      "2023-08-13 19:58:40,552 - web_scraper.web_scraper - self.character_dict_omnibus entry for IROHA was successful\n",
      "2023-08-13 19:58:40,575 - web_scraper.web_scraper - self.character_dict_omnibus entry for KADAJ was successful\n",
      "2023-08-13 19:58:40,592 - web_scraper.web_scraper - self.character_dict_omnibus entry for MOG was successful\n",
      "2023-08-13 19:58:40,609 - web_scraper.web_scraper - self.character_dict_omnibus entry for CEODORE was successful\n",
      "2023-08-13 19:58:40,624 - web_scraper.web_scraper - self.character_dict_omnibus entry for GUY was successful\n",
      "2023-08-13 19:58:40,641 - web_scraper.web_scraper - self.character_dict_omnibus entry for XANDE was successful\n",
      "2023-08-13 19:58:40,659 - web_scraper.web_scraper - self.character_dict_omnibus entry for RUDE was successful\n",
      "2023-08-13 19:58:40,678 - web_scraper.web_scraper - self.character_dict_omnibus entry for RENO was successful\n",
      "2023-08-13 19:58:40,694 - web_scraper.web_scraper - self.character_dict_omnibus entry for GLADIO was successful\n",
      "2023-08-13 19:58:40,713 - web_scraper.web_scraper - self.character_dict_omnibus entry for KURASAME was successful\n",
      "2023-08-13 19:58:40,731 - web_scraper.web_scraper - self.character_dict_omnibus entry for STRAGO was successful\n",
      "2023-08-13 19:58:40,749 - web_scraper.web_scraper - self.character_dict_omnibus entry for EDWARD was successful\n",
      "2023-08-13 19:58:40,765 - web_scraper.web_scraper - self.character_dict_omnibus entry for ARDYN was successful\n",
      "2023-08-13 19:58:40,782 - web_scraper.web_scraper - self.character_dict_omnibus entry for NINE was successful\n",
      "2023-08-13 19:58:40,799 - web_scraper.web_scraper - self.character_dict_omnibus entry for GABRANTH was successful\n",
      "2023-08-13 19:58:40,816 - web_scraper.web_scraper - self.character_dict_omnibus entry for DESCH was successful\n",
      "2023-08-13 19:58:40,831 - web_scraper.web_scraper - self.character_dict_omnibus entry for AMIDATELION was successful\n",
      "2023-08-13 19:58:40,849 - web_scraper.web_scraper - self.character_dict_omnibus entry for TREY was successful\n",
      "2023-08-13 19:58:40,864 - web_scraper.web_scraper - self.character_dict_omnibus entry for EALDNARCHE was successful\n",
      "2023-08-13 19:58:40,882 - web_scraper.web_scraper - self.character_dict_omnibus entry for CLOUDOFDARKNESS was successful\n",
      "2023-08-13 19:58:40,899 - web_scraper.web_scraper - self.character_dict_omnibus entry for KEISS was successful\n",
      "2023-08-13 19:58:40,914 - web_scraper.web_scraper - self.character_dict_omnibus entry for ARCIELA was successful\n",
      "2023-08-13 19:58:40,931 - web_scraper.web_scraper - self.character_dict_omnibus entry for JACK was successful\n",
      "2023-08-13 19:58:40,946 - web_scraper.web_scraper - self.character_dict_omnibus entry for CAIUS was successful\n",
      "2023-08-13 19:58:40,964 - web_scraper.web_scraper - self.character_dict_omnibus entry for EXDEATH was successful\n",
      "2023-08-13 19:58:40,981 - web_scraper.web_scraper - self.character_dict_omnibus entry for LEO was successful\n",
      "2023-08-13 19:58:40,999 - web_scraper.web_scraper - self.character_dict_omnibus entry for CIARAN was successful\n",
      "2023-08-13 19:58:41,016 - web_scraper.web_scraper - self.character_dict_omnibus entry for KAMLANAUT was successful\n",
      "2023-08-13 19:58:41,032 - web_scraper.web_scraper - self.character_dict_omnibus entry for GAU was successful\n",
      "2023-08-13 19:58:41,050 - web_scraper.web_scraper - self.character_dict_omnibus entry for ARANEA was successful\n",
      "2023-08-13 19:58:41,068 - web_scraper.web_scraper - self.character_dict_omnibus entry for IGNIS was successful\n",
      "2023-08-13 19:58:41,085 - web_scraper.web_scraper - self.character_dict_omnibus entry for EIGHT was successful\n",
      "2023-08-13 19:58:41,102 - web_scraper.web_scraper - self.character_dict_omnibus entry for THEEMPEROR was successful\n",
      "2023-08-13 19:58:41,120 - web_scraper.web_scraper - self.character_dict_omnibus entry for KIMAHRI was successful\n",
      "2023-08-13 19:58:41,138 - web_scraper.web_scraper - self.character_dict_omnibus entry for BASCH was successful\n",
      "2023-08-13 19:58:41,155 - web_scraper.web_scraper - self.character_dict_omnibus entry for LYSE was successful\n",
      "2023-08-13 19:58:41,173 - web_scraper.web_scraper - self.character_dict_omnibus entry for MACHINA was successful\n",
      "2023-08-13 19:58:41,189 - web_scraper.web_scraper - self.character_dict_omnibus entry for ULTIMECIA was successful\n",
      "2023-08-13 19:58:41,208 - web_scraper.web_scraper - self.character_dict_omnibus entry for GARLAND was successful\n",
      "2023-08-13 19:58:41,225 - web_scraper.web_scraper - self.character_dict_omnibus entry for SHERLOTTA was successful\n",
      "2023-08-13 19:58:41,242 - web_scraper.web_scraper - self.character_dict_omnibus entry for APHMAU was successful\n",
      "2023-08-13 19:58:41,258 - web_scraper.web_scraper - self.character_dict_omnibus entry for NOEL was successful\n",
      "2023-08-13 19:58:41,275 - web_scraper.web_scraper - self.character_dict_omnibus entry for ALPHINAUD was successful\n",
      "2023-08-13 19:58:41,292 - web_scraper.web_scraper - self.character_dict_omnibus entry for PROMPTO was successful\n",
      "2023-08-13 19:58:41,309 - web_scraper.web_scraper - self.character_dict_omnibus entry for CINQUE was successful\n",
      "2023-08-13 19:58:41,324 - web_scraper.web_scraper - self.character_dict_omnibus entry for PAINE was successful\n",
      "2023-08-13 19:58:41,342 - web_scraper.web_scraper - self.character_dict_omnibus entry for POROM was successful\n",
      "2023-08-13 19:58:41,359 - web_scraper.web_scraper - self.character_dict_omnibus entry for FRAN was successful\n",
      "2023-08-13 19:58:41,376 - web_scraper.web_scraper - self.character_dict_omnibus entry for VAYNE was successful\n",
      "2023-08-13 19:58:41,392 - web_scraper.web_scraper - self.character_dict_omnibus entry for FREYA was successful\n",
      "2023-08-13 19:58:41,410 - web_scraper.web_scraper - self.character_dict_omnibus entry for LANNREYNN was successful\n",
      "2023-08-13 19:58:41,425 - web_scraper.web_scraper - self.character_dict_omnibus entry for LULU was successful\n",
      "2023-08-13 19:58:41,442 - web_scraper.web_scraper - self.character_dict_omnibus entry for RINOA was successful\n",
      "2023-08-13 19:58:41,457 - web_scraper.web_scraper - self.character_dict_omnibus entry for GOLBEZ was successful\n",
      "2023-08-13 19:58:41,475 - web_scraper.web_scraper - self.character_dict_omnibus entry for ROSA was successful\n",
      "2023-08-13 19:58:41,490 - web_scraper.web_scraper - self.character_dict_omnibus entry for CECILPALADIN was successful\n",
      "2023-08-13 19:58:41,506 - web_scraper.web_scraper - self.character_dict_omnibus entry for BARRET was successful\n",
      "2023-08-13 19:58:41,523 - web_scraper.web_scraper - self.character_dict_omnibus entry for LOCKE was successful\n",
      "2023-08-13 19:58:41,540 - web_scraper.web_scraper - self.character_dict_omnibus entry for AGRIAS was successful\n",
      "2023-08-13 19:58:41,556 - web_scraper.web_scraper - self.character_dict_omnibus entry for DEUCE was successful\n",
      "2023-08-13 19:58:41,574 - web_scraper.web_scraper - self.character_dict_omnibus entry for SEVEN was successful\n",
      "2023-08-13 19:58:41,593 - web_scraper.web_scraper - self.character_dict_omnibus entry for FANG was successful\n",
      "2023-08-13 19:58:41,610 - web_scraper.web_scraper - self.character_dict_omnibus entry for LEON was successful\n",
      "2023-08-13 19:58:41,626 - web_scraper.web_scraper - self.character_dict_omnibus entry for BEATRIX was successful\n",
      "2023-08-13 19:58:41,642 - web_scraper.web_scraper - self.character_dict_omnibus entry for CAITSITH was successful\n",
      "2023-08-13 19:58:41,659 - web_scraper.web_scraper - self.character_dict_omnibus entry for RELM was successful\n",
      "2023-08-13 19:58:41,674 - web_scraper.web_scraper - self.character_dict_omnibus entry for GILGAMESH was successful\n",
      "2023-08-13 19:58:41,693 - web_scraper.web_scraper - self.character_dict_omnibus entry for SELPHIE was successful\n",
      "2023-08-13 19:58:41,708 - web_scraper.web_scraper - self.character_dict_omnibus entry for ALISAIE was successful\n",
      "2023-08-13 19:58:41,725 - web_scraper.web_scraper - self.character_dict_omnibus entry for NOCTIS was successful\n",
      "2023-08-13 19:58:41,744 - web_scraper.web_scraper - self.character_dict_omnibus entry for JECHT was successful\n",
      "2023-08-13 19:58:41,761 - web_scraper.web_scraper - self.character_dict_omnibus entry for YURI was successful\n",
      "2023-08-13 19:58:41,778 - web_scraper.web_scraper - self.character_dict_omnibus entry for LILISETTE was successful\n",
      "2023-08-13 19:58:41,796 - web_scraper.web_scraper - self.character_dict_omnibus entry for ZACK was successful\n",
      "2023-08-13 19:58:41,815 - web_scraper.web_scraper - self.character_dict_omnibus entry for KEFKA was successful\n",
      "2023-08-13 19:58:41,833 - web_scraper.web_scraper - self.character_dict_omnibus entry for RYDIA was successful\n",
      "2023-08-13 19:58:41,850 - web_scraper.web_scraper - self.character_dict_omnibus entry for CIDHIGHWIND was successful\n",
      "2023-08-13 19:58:41,868 - web_scraper.web_scraper - self.character_dict_omnibus entry for LENNA was successful\n",
      "2023-08-13 19:58:41,887 - web_scraper.web_scraper - self.character_dict_omnibus entry for SEPHIROTH was successful\n",
      "2023-08-13 19:58:41,904 - web_scraper.web_scraper - self.character_dict_omnibus entry for SEIFER was successful\n",
      "2023-08-13 19:58:41,921 - web_scraper.web_scraper - self.character_dict_omnibus entry for FUJIN was successful\n",
      "2023-08-13 19:58:41,938 - web_scraper.web_scraper - self.character_dict_omnibus entry for RAIJIN was successful\n",
      "2023-08-13 19:58:41,954 - web_scraper.web_scraper - self.character_dict_omnibus entry for QUISTIS was successful\n",
      "2023-08-13 19:58:41,972 - web_scraper.web_scraper - self.character_dict_omnibus entry for MARIA was successful\n",
      "2023-08-13 19:58:41,987 - web_scraper.web_scraper - self.character_dict_omnibus entry for PALOM was successful\n",
      "2023-08-13 19:58:42,003 - web_scraper.web_scraper - self.character_dict_omnibus entry for KUJA was successful\n",
      "2023-08-13 19:58:42,020 - web_scraper.web_scraper - self.character_dict_omnibus entry for KAIN was successful\n",
      "2023-08-13 19:58:42,037 - web_scraper.web_scraper - self.character_dict_omnibus entry for CELES was successful\n",
      "2023-08-13 19:58:42,054 - web_scraper.web_scraper - self.character_dict_omnibus entry for GARNET was successful\n",
      "2023-08-13 19:58:42,069 - web_scraper.web_scraper - self.character_dict_omnibus entry for EDGAR was successful\n",
      "2023-08-13 19:58:42,085 - web_scraper.web_scraper - self.character_dict_omnibus entry for SERAH was successful\n",
      "2023-08-13 19:58:42,102 - web_scraper.web_scraper - self.character_dict_omnibus entry for IRVINE was successful\n",
      "2023-08-13 19:58:42,119 - web_scraper.web_scraper - self.character_dict_omnibus entry for AURON was successful\n",
      "2023-08-13 19:58:42,136 - web_scraper.web_scraper - self.character_dict_omnibus entry for LION was successful\n",
      "2023-08-13 19:58:42,151 - web_scraper.web_scraper - self.character_dict_omnibus entry for AERITH was successful\n",
      "2023-08-13 19:58:42,168 - web_scraper.web_scraper - self.character_dict_omnibus entry for ASHE was successful\n",
      "2023-08-13 19:58:42,187 - web_scraper.web_scraper - self.character_dict_omnibus entry for CATER was successful\n",
      "2023-08-13 19:58:42,207 - web_scraper.web_scraper - self.character_dict_omnibus entry for SNOW was successful\n",
      "2023-08-13 19:58:42,225 - web_scraper.web_scraper - self.character_dict_omnibus entry for THANCRED was successful\n",
      "2023-08-13 19:58:42,241 - web_scraper.web_scraper - self.character_dict_omnibus entry for LIGHTNING was successful\n",
      "2023-08-13 19:58:42,257 - web_scraper.web_scraper - self.character_dict_omnibus entry for PAPALYMO was successful\n",
      "2023-08-13 19:58:42,272 - web_scraper.web_scraper - self.character_dict_omnibus entry for CYAN was successful\n",
      "2023-08-13 19:58:42,288 - web_scraper.web_scraper - self.character_dict_omnibus entry for KRILE was successful\n",
      "2023-08-13 19:58:42,304 - web_scraper.web_scraper - self.character_dict_omnibus entry for SABIN was successful\n",
      "2023-08-13 19:58:42,319 - web_scraper.web_scraper - self.character_dict_omnibus entry for SEYMOUR was successful\n",
      "2023-08-13 19:58:42,334 - web_scraper.web_scraper - self.character_dict_omnibus entry for ACE was successful\n",
      "2023-08-13 19:58:42,351 - web_scraper.web_scraper - self.character_dict_omnibus entry for RAMZA was successful\n",
      "2023-08-13 19:58:42,367 - web_scraper.web_scraper - self.character_dict_omnibus entry for FARIS was successful\n",
      "2023-08-13 19:58:42,385 - web_scraper.web_scraper - self.character_dict_omnibus entry for PRISHE was successful\n",
      "2023-08-13 19:58:42,401 - web_scraper.web_scraper - self.character_dict_omnibus entry for VINCENT was successful\n",
      "2023-08-13 19:58:42,417 - web_scraper.web_scraper - self.character_dict_omnibus entry for ZELL was successful\n",
      "2023-08-13 19:58:42,433 - web_scraper.web_scraper - self.character_dict_omnibus entry for LAYLE was successful\n",
      "2023-08-13 19:58:42,451 - web_scraper.web_scraper - self.character_dict_omnibus entry for TIDUS was successful\n",
      "2023-08-13 19:58:42,468 - web_scraper.web_scraper - self.character_dict_omnibus entry for EIKO was successful\n",
      "2023-08-13 19:58:42,484 - web_scraper.web_scraper - self.character_dict_omnibus entry for BALTHIER was successful\n",
      "2023-08-13 19:58:42,501 - web_scraper.web_scraper - self.character_dict_omnibus entry for SHANTOTTO was successful\n",
      "2023-08-13 19:58:42,517 - web_scraper.web_scraper - self.character_dict_omnibus entry for GALUF was successful\n",
      "2023-08-13 19:58:42,535 - web_scraper.web_scraper - self.character_dict_omnibus entry for WAKKA was successful\n",
      "2023-08-13 19:58:42,551 - web_scraper.web_scraper - self.character_dict_omnibus entry for SETZER was successful\n",
      "2023-08-13 19:58:42,568 - web_scraper.web_scraper - self.character_dict_omnibus entry for VANILLE was successful\n",
      "2023-08-13 19:58:42,584 - web_scraper.web_scraper - self.character_dict_omnibus entry for SQUALL was successful\n",
      "2023-08-13 19:58:42,601 - web_scraper.web_scraper - self.character_dict_omnibus entry for SHADOW was successful\n",
      "2023-08-13 19:58:42,617 - web_scraper.web_scraper - self.character_dict_omnibus entry for STEINER was successful\n",
      "2023-08-13 19:58:42,633 - web_scraper.web_scraper - self.character_dict_omnibus entry for LAGUNA was successful\n",
      "2023-08-13 19:58:42,649 - web_scraper.web_scraper - self.character_dict_omnibus entry for FIRION was successful\n",
      "2023-08-13 19:58:42,666 - web_scraper.web_scraper - self.character_dict_omnibus entry for ONIONKNIGHT was successful\n",
      "2023-08-13 19:58:42,683 - web_scraper.web_scraper - self.character_dict_omnibus entry for YANG was successful\n",
      "2023-08-13 19:58:42,699 - web_scraper.web_scraper - self.character_dict_omnibus entry for TERRA was successful\n",
      "2023-08-13 19:58:42,715 - web_scraper.web_scraper - self.character_dict_omnibus entry for PENELO was successful\n",
      "2023-08-13 19:58:42,730 - web_scraper.web_scraper - self.character_dict_omnibus entry for BARTZ was successful\n",
      "2023-08-13 19:58:42,745 - web_scraper.web_scraper - self.character_dict_omnibus entry for KING was successful\n",
      "2023-08-13 19:58:42,762 - web_scraper.web_scraper - self.character_dict_omnibus entry for EDGE was successful\n",
      "2023-08-13 19:58:42,778 - web_scraper.web_scraper - self.character_dict_omnibus entry for YUNA was successful\n",
      "2023-08-13 19:58:42,795 - web_scraper.web_scraper - self.character_dict_omnibus entry for YUFFIE was successful\n",
      "2023-08-13 19:58:42,810 - web_scraper.web_scraper - self.character_dict_omnibus entry for VAAN was successful\n",
      "2023-08-13 19:58:42,825 - web_scraper.web_scraper - self.character_dict_omnibus entry for YDA was successful\n",
      "2023-08-13 19:58:42,843 - web_scraper.web_scraper - self.character_dict_omnibus entry for CECIL was successful\n",
      "2023-08-13 19:58:42,859 - web_scraper.web_scraper - self.character_dict_omnibus entry for ZIDANE was successful\n",
      "2023-08-13 19:58:42,877 - web_scraper.web_scraper - self.character_dict_omnibus entry for YSHTOLA was successful\n",
      "2023-08-13 19:58:42,892 - web_scraper.web_scraper - self.character_dict_omnibus entry for HOPE was successful\n",
      "2023-08-13 19:58:42,909 - web_scraper.web_scraper - self.character_dict_omnibus entry for CLOUD was successful\n",
      "2023-08-13 19:58:42,924 - web_scraper.web_scraper - self.character_dict_omnibus entry for TIFA was successful\n",
      "2023-08-13 19:58:42,940 - web_scraper.web_scraper - self.character_dict_omnibus entry for SAZH was successful\n",
      "2023-08-13 19:58:42,956 - web_scraper.web_scraper - self.character_dict_omnibus entry for REM was successful\n",
      "2023-08-13 19:58:42,972 - web_scraper.web_scraper - self.character_dict_omnibus entry for VIVI was successful\n",
      "2023-08-13 19:58:42,986 - web_scraper.web_scraper - self.character_dict_omnibus entry for WARRIOROFLIGHT was successful\n",
      "2023-08-13 19:58:43,002 - web_scraper.web_scraper - self.character_dict_omnibus entry for AMARANT was successful\n",
      "2023-08-13 19:58:43,017 - web_scraper.web_scraper - self.character_dict_omnibus entry for JIHLNABAAT was successful\n",
      "2023-08-13 19:58:43,033 - web_scraper.web_scraper - self.character_dict_omnibus entry for WEISS was successful\n",
      "2023-08-13 19:58:43,051 - web_scraper.web_scraper - self.character_dict_omnibus entry for KELGER was successful\n",
      "2023-08-13 19:58:43,067 - web_scraper.web_scraper - self.character_dict_omnibus entry for SELHTEUS was successful\n",
      "2023-08-13 19:58:43,083 - web_scraper.web_scraper - self.character_dict_omnibus entry for LEONORA was successful\n",
      "2023-08-13 19:58:43,084 - web_scraper.web_scraper - Character links successfully generated.\n"
     ]
    }
   ],
   "source": [
    "cs = CompendiumScraper('\\\\Users\\\\jasre\\\\Code\\\\ws_config.yml')"
   ]
  },
  {
   "cell_type": "code",
   "execution_count": 4,
   "id": "53d0fe14-5780-4ec6-bb2a-24615c518ed7",
   "metadata": {},
   "outputs": [
    {
     "name": "stderr",
     "output_type": "stream",
     "text": [
      "2023-08-13 19:58:43,102 - web_scraper.web_scraper - ====================================================\n",
      "2023-08-13 19:58:43,102 - web_scraper.web_scraper - Generating ability dictionary for AMARANT\n",
      "2023-08-13 19:58:43,103 - web_scraper.web_scraper - ====================================================\n",
      "2023-08-13 19:58:48,364 - web_scraper.web_scraper - Unable to access abilities for AMARANT.\n",
      "2023-08-13 19:58:48,364 - web_scraper.web_scraper - They might not be released to GL yet.\n",
      "2023-08-13 19:58:48,365 - web_scraper.web_scraper - ====================================================\n",
      "2023-08-13 19:58:48,365 - web_scraper.web_scraper - Parsing ability dict to df for AMARANT.\n",
      "2023-08-13 19:58:48,366 - web_scraper.web_scraper - ====================================================\n",
      "2023-08-13 19:58:48,367 - web_scraper.web_scraper - Couldn't find ability_dict for AMARANT.\n",
      "2023-08-13 19:58:48,368 - web_scraper.web_scraper - ====================================================\n",
      "2023-08-13 19:58:48,368 - web_scraper.web_scraper - Retrieving BT info for AMARANT.\n",
      "2023-08-13 19:58:48,369 - web_scraper.web_scraper - ====================================================\n"
     ]
    },
    {
     "name": "stdout",
     "output_type": "stream",
     "text": [
      "No ability_dict for amarant.\n",
      "Run `generate_ability_dict('amarant')` first, then `parse_ability_dict_to_df()` should work for them.\n",
      "Also, make sure you've properly specified whether you want the GL or JP version for both functions.\n"
     ]
    },
    {
     "name": "stderr",
     "output_type": "stream",
     "text": [
      "2023-08-13 19:59:00,026 - web_scraper.web_scraper - No stack slider found. Assuming amarant has a BT without stacks.\n",
      "2023-08-13 19:59:00,056 - web_scraper.web_scraper - Retrieved BT info for AMARANT.\n",
      "2023-08-13 19:59:00,058 - web_scraper.web_scraper - ====================================================\n",
      "2023-08-13 19:59:00,059 - web_scraper.web_scraper - Retrieving High Armor info for AMARANT.\n",
      "2023-08-13 19:59:00,060 - web_scraper.web_scraper - ====================================================\n",
      "2023-08-13 19:59:10,737 - web_scraper.web_scraper - Could not find High Armor for AMARANT.\n",
      "2023-08-13 19:59:10,738 - web_scraper.web_scraper - ====================================================\n",
      "2023-08-13 19:59:10,738 - web_scraper.web_scraper - Generating ability dictionary for LEONORA\n",
      "2023-08-13 19:59:10,739 - web_scraper.web_scraper - ====================================================\n"
     ]
    },
    {
     "name": "stdout",
     "output_type": "stream",
     "text": [
      "Unable to find High Armor info for Amarant.\n",
      "They might not be released to GL yet.\n"
     ]
    },
    {
     "name": "stderr",
     "output_type": "stream",
     "text": [
      "2023-08-13 19:59:16,077 - web_scraper.web_scraper - Unable to access abilities for LEONORA.\n",
      "2023-08-13 19:59:16,077 - web_scraper.web_scraper - They might not be released to GL yet.\n",
      "2023-08-13 19:59:16,078 - web_scraper.web_scraper - ====================================================\n",
      "2023-08-13 19:59:16,079 - web_scraper.web_scraper - Parsing ability dict to df for LEONORA.\n",
      "2023-08-13 19:59:16,079 - web_scraper.web_scraper - ====================================================\n",
      "2023-08-13 19:59:16,080 - web_scraper.web_scraper - Couldn't find ability_dict for LEONORA.\n",
      "2023-08-13 19:59:16,081 - web_scraper.web_scraper - ====================================================\n",
      "2023-08-13 19:59:16,081 - web_scraper.web_scraper - Retrieving BT info for LEONORA.\n",
      "2023-08-13 19:59:16,082 - web_scraper.web_scraper - ====================================================\n"
     ]
    },
    {
     "name": "stdout",
     "output_type": "stream",
     "text": [
      "No ability_dict for leonora.\n",
      "Run `generate_ability_dict('leonora')` first, then `parse_ability_dict_to_df()` should work for them.\n",
      "Also, make sure you've properly specified whether you want the GL or JP version for both functions.\n"
     ]
    },
    {
     "name": "stderr",
     "output_type": "stream",
     "text": [
      "2023-08-13 19:59:27,768 - web_scraper.web_scraper - No stack slider found. Assuming leonora has a BT without stacks.\n",
      "2023-08-13 19:59:27,794 - web_scraper.web_scraper - Retrieved BT info for LEONORA.\n",
      "2023-08-13 19:59:27,795 - web_scraper.web_scraper - ====================================================\n",
      "2023-08-13 19:59:27,795 - web_scraper.web_scraper - Retrieving High Armor info for LEONORA.\n",
      "2023-08-13 19:59:27,796 - web_scraper.web_scraper - ====================================================\n",
      "2023-08-13 19:59:38,491 - web_scraper.web_scraper - Could not find High Armor for LEONORA.\n",
      "2023-08-13 19:59:38,492 - web_scraper.web_scraper - ====================================================\n",
      "2023-08-13 19:59:38,493 - web_scraper.web_scraper - Generating ability dictionary for SELHTEUS\n",
      "2023-08-13 19:59:38,493 - web_scraper.web_scraper - ====================================================\n"
     ]
    },
    {
     "name": "stdout",
     "output_type": "stream",
     "text": [
      "Unable to find High Armor info for Leonora.\n",
      "They might not be released to GL yet.\n"
     ]
    },
    {
     "name": "stderr",
     "output_type": "stream",
     "text": [
      "2023-08-13 19:59:43,802 - web_scraper.web_scraper - Unable to access abilities for SELHTEUS.\n",
      "2023-08-13 19:59:43,802 - web_scraper.web_scraper - They might not be released to GL yet.\n",
      "2023-08-13 19:59:43,803 - web_scraper.web_scraper - ====================================================\n",
      "2023-08-13 19:59:43,803 - web_scraper.web_scraper - Parsing ability dict to df for SELHTEUS.\n",
      "2023-08-13 19:59:43,804 - web_scraper.web_scraper - ====================================================\n",
      "2023-08-13 19:59:43,805 - web_scraper.web_scraper - Couldn't find ability_dict for SELHTEUS.\n",
      "2023-08-13 19:59:43,806 - web_scraper.web_scraper - ====================================================\n",
      "2023-08-13 19:59:43,807 - web_scraper.web_scraper - Retrieving BT info for SELHTEUS.\n",
      "2023-08-13 19:59:43,808 - web_scraper.web_scraper - ====================================================\n"
     ]
    },
    {
     "name": "stdout",
     "output_type": "stream",
     "text": [
      "No ability_dict for selhteus.\n",
      "Run `generate_ability_dict('selhteus')` first, then `parse_ability_dict_to_df()` should work for them.\n",
      "Also, make sure you've properly specified whether you want the GL or JP version for both functions.\n"
     ]
    },
    {
     "name": "stderr",
     "output_type": "stream",
     "text": [
      "2023-08-13 19:59:55,552 - web_scraper.web_scraper - No stack slider found. Assuming selhteus has a BT without stacks.\n",
      "2023-08-13 19:59:55,575 - web_scraper.web_scraper - Retrieved BT info for SELHTEUS.\n",
      "2023-08-13 19:59:55,577 - web_scraper.web_scraper - ====================================================\n",
      "2023-08-13 19:59:55,577 - web_scraper.web_scraper - Retrieving High Armor info for SELHTEUS.\n",
      "2023-08-13 19:59:55,578 - web_scraper.web_scraper - ====================================================\n",
      "2023-08-13 20:00:06,287 - web_scraper.web_scraper - Could not find High Armor for SELHTEUS.\n",
      "2023-08-13 20:00:06,289 - web_scraper.web_scraper - ====================================================\n",
      "2023-08-13 20:00:06,290 - web_scraper.web_scraper - Generating ability dictionary for KELGER\n",
      "2023-08-13 20:00:06,291 - web_scraper.web_scraper - ====================================================\n"
     ]
    },
    {
     "name": "stdout",
     "output_type": "stream",
     "text": [
      "Unable to find High Armor info for Selhteus.\n",
      "They might not be released to GL yet.\n"
     ]
    },
    {
     "name": "stderr",
     "output_type": "stream",
     "text": [
      "2023-08-13 20:00:11,718 - web_scraper.web_scraper - Unable to access abilities for KELGER.\n",
      "2023-08-13 20:00:11,719 - web_scraper.web_scraper - They might not be released to GL yet.\n",
      "2023-08-13 20:00:11,719 - web_scraper.web_scraper - ====================================================\n",
      "2023-08-13 20:00:11,720 - web_scraper.web_scraper - Parsing ability dict to df for KELGER.\n",
      "2023-08-13 20:00:11,721 - web_scraper.web_scraper - ====================================================\n",
      "2023-08-13 20:00:11,721 - web_scraper.web_scraper - Couldn't find ability_dict for KELGER.\n",
      "2023-08-13 20:00:11,722 - web_scraper.web_scraper - ====================================================\n",
      "2023-08-13 20:00:11,722 - web_scraper.web_scraper - Retrieving BT info for KELGER.\n",
      "2023-08-13 20:00:11,723 - web_scraper.web_scraper - ====================================================\n"
     ]
    },
    {
     "name": "stdout",
     "output_type": "stream",
     "text": [
      "No ability_dict for kelger.\n",
      "Run `generate_ability_dict('kelger')` first, then `parse_ability_dict_to_df()` should work for them.\n",
      "Also, make sure you've properly specified whether you want the GL or JP version for both functions.\n"
     ]
    },
    {
     "name": "stderr",
     "output_type": "stream",
     "text": [
      "2023-08-13 20:00:23,469 - web_scraper.web_scraper - No stack slider found. Assuming kelger has a BT without stacks.\n",
      "2023-08-13 20:00:23,494 - web_scraper.web_scraper - Retrieved BT info for KELGER.\n",
      "2023-08-13 20:00:23,495 - web_scraper.web_scraper - ====================================================\n",
      "2023-08-13 20:00:23,496 - web_scraper.web_scraper - Retrieving High Armor info for KELGER.\n",
      "2023-08-13 20:00:23,496 - web_scraper.web_scraper - ====================================================\n",
      "2023-08-13 20:00:34,170 - web_scraper.web_scraper - Could not find High Armor for KELGER.\n",
      "2023-08-13 20:00:34,171 - web_scraper.web_scraper - ====================================================\n",
      "2023-08-13 20:00:34,171 - web_scraper.web_scraper - Generating ability dictionary for WEISS\n",
      "2023-08-13 20:00:34,172 - web_scraper.web_scraper - ====================================================\n"
     ]
    },
    {
     "name": "stdout",
     "output_type": "stream",
     "text": [
      "Unable to find High Armor info for Kelger.\n",
      "They might not be released to GL yet.\n"
     ]
    },
    {
     "name": "stderr",
     "output_type": "stream",
     "text": [
      "2023-08-13 20:00:39,484 - web_scraper.web_scraper - Unable to access abilities for WEISS.\n",
      "2023-08-13 20:00:39,484 - web_scraper.web_scraper - They might not be released to GL yet.\n",
      "2023-08-13 20:00:39,485 - web_scraper.web_scraper - ====================================================\n",
      "2023-08-13 20:00:39,486 - web_scraper.web_scraper - Parsing ability dict to df for WEISS.\n",
      "2023-08-13 20:00:39,487 - web_scraper.web_scraper - ====================================================\n",
      "2023-08-13 20:00:39,487 - web_scraper.web_scraper - Couldn't find ability_dict for WEISS.\n",
      "2023-08-13 20:00:39,488 - web_scraper.web_scraper - ====================================================\n",
      "2023-08-13 20:00:39,489 - web_scraper.web_scraper - Retrieving BT info for WEISS.\n",
      "2023-08-13 20:00:39,489 - web_scraper.web_scraper - ====================================================\n"
     ]
    },
    {
     "name": "stdout",
     "output_type": "stream",
     "text": [
      "No ability_dict for weiss.\n",
      "Run `generate_ability_dict('weiss')` first, then `parse_ability_dict_to_df()` should work for them.\n",
      "Also, make sure you've properly specified whether you want the GL or JP version for both functions.\n"
     ]
    },
    {
     "name": "stderr",
     "output_type": "stream",
     "text": [
      "2023-08-13 20:00:51,172 - web_scraper.web_scraper - No stack slider found. Assuming weiss has a BT without stacks.\n",
      "2023-08-13 20:00:51,195 - web_scraper.web_scraper - Retrieved BT info for WEISS.\n",
      "2023-08-13 20:00:51,196 - web_scraper.web_scraper - ====================================================\n",
      "2023-08-13 20:00:51,198 - web_scraper.web_scraper - Retrieving High Armor info for WEISS.\n",
      "2023-08-13 20:00:51,199 - web_scraper.web_scraper - ====================================================\n",
      "2023-08-13 20:01:01,916 - web_scraper.web_scraper - Could not find High Armor for WEISS.\n",
      "2023-08-13 20:01:01,917 - web_scraper.web_scraper - ====================================================\n",
      "2023-08-13 20:01:01,918 - web_scraper.web_scraper - Generating ability dictionary for JIHLNABAAT\n",
      "2023-08-13 20:01:01,920 - web_scraper.web_scraper - ====================================================\n"
     ]
    },
    {
     "name": "stdout",
     "output_type": "stream",
     "text": [
      "Unable to find High Armor info for Weiss.\n",
      "They might not be released to GL yet.\n"
     ]
    },
    {
     "name": "stderr",
     "output_type": "stream",
     "text": [
      "2023-08-13 20:01:07,298 - web_scraper.web_scraper - Unable to access abilities for JIHLNABAAT.\n",
      "2023-08-13 20:01:07,299 - web_scraper.web_scraper - They might not be released to GL yet.\n",
      "2023-08-13 20:01:07,299 - web_scraper.web_scraper - ====================================================\n",
      "2023-08-13 20:01:07,300 - web_scraper.web_scraper - Parsing ability dict to df for JIHLNABAAT.\n",
      "2023-08-13 20:01:07,301 - web_scraper.web_scraper - ====================================================\n",
      "2023-08-13 20:01:07,301 - web_scraper.web_scraper - Couldn't find ability_dict for JIHLNABAAT.\n",
      "2023-08-13 20:01:07,302 - web_scraper.web_scraper - ====================================================\n",
      "2023-08-13 20:01:07,302 - web_scraper.web_scraper - Retrieving BT info for JIHLNABAAT.\n",
      "2023-08-13 20:01:07,303 - web_scraper.web_scraper - ====================================================\n"
     ]
    },
    {
     "name": "stdout",
     "output_type": "stream",
     "text": [
      "No ability_dict for jihlnabaat.\n",
      "Run `generate_ability_dict('jihlnabaat')` first, then `parse_ability_dict_to_df()` should work for them.\n",
      "Also, make sure you've properly specified whether you want the GL or JP version for both functions.\n"
     ]
    },
    {
     "name": "stderr",
     "output_type": "stream",
     "text": [
      "2023-08-13 20:01:18,984 - web_scraper.web_scraper - No stack slider found. Assuming jihlnabaat has a BT without stacks.\n",
      "2023-08-13 20:01:19,008 - web_scraper.web_scraper - Retrieved BT info for JIHLNABAAT.\n",
      "2023-08-13 20:01:19,009 - web_scraper.web_scraper - ====================================================\n",
      "2023-08-13 20:01:19,009 - web_scraper.web_scraper - Retrieving High Armor info for JIHLNABAAT.\n",
      "2023-08-13 20:01:19,010 - web_scraper.web_scraper - ====================================================\n",
      "2023-08-13 20:01:29,720 - web_scraper.web_scraper - Could not find High Armor for JIHLNABAAT.\n"
     ]
    },
    {
     "name": "stdout",
     "output_type": "stream",
     "text": [
      "Unable to find High Armor info for Jihlnabaat.\n",
      "They might not be released to GL yet.\n"
     ]
    }
   ],
   "source": [
    "ability_df_list = []\n",
    "\n",
    "bt_effect_df_list = []\n",
    "\n",
    "ha_cap_df_list = []\n",
    "\n",
    "jp_list = []\n",
    "\n",
    "for char_name in ['amarant', 'leonora', 'selhteus', 'kelger', 'weiss', 'jihlnabaat']:\n",
    "    try:\n",
    "        cs.generate_ability_dict(char_name)\n",
    "    except Exception:\n",
    "        jp_list.append(char_name)\n",
    "        continue\n",
    "    \n",
    "    parsed_ability_df = cs.parse_ability_dict_to_df(char_name)\n",
    "\n",
    "    ability_df_list.append(parsed_ability_df)\n",
    "\n",
    "    bt_effect_df = cs.retrieve_hp_caps_from_bt(char_name, return_output=True)\n",
    "\n",
    "    bt_effect_df_list.append(bt_effect_df)\n",
    "\n",
    "    high_armor_cap_df = cs.retrieve_ha_hp_dmg_cap_up(char_name, return_output=True)\n",
    "\n",
    "    ha_cap_df_list.append(high_armor_cap_df)"
   ]
  }
 ],
 "metadata": {
  "kernelspec": {
   "display_name": "Python 3 (ipykernel)",
   "language": "python",
   "name": "python3"
  },
  "language_info": {
   "codemirror_mode": {
    "name": "ipython",
    "version": 3
   },
   "file_extension": ".py",
   "mimetype": "text/x-python",
   "name": "python",
   "nbconvert_exporter": "python",
   "pygments_lexer": "ipython3",
   "version": "3.11.4"
  }
 },
 "nbformat": 4,
 "nbformat_minor": 5
}
